{
 "cells": [
  {
   "cell_type": "markdown",
   "id": "a62fc486",
   "metadata": {},
   "source": [
    "# This is Health Insurance prediction issue on classification method"
   ]
  },
  {
   "cell_type": "code",
   "execution_count": 184,
   "id": "a6de3877",
   "metadata": {
    "id": "a6de3877"
   },
   "outputs": [],
   "source": [
    "import pandas as pd\n",
    "import numpy as np\n",
    "import matplotlib.pyplot as plt\n",
    "%matplotlib inline\n",
    "import seaborn as sns\n",
    "import os\n",
    "from os.path import abspath, dirname\n",
    "import warnings\n",
    "warnings.filterwarnings('ignore')"
   ]
  },
  {
   "cell_type": "markdown",
   "id": "01166900",
   "metadata": {},
   "source": [
    "### Geting data file "
   ]
  },
  {
   "cell_type": "code",
   "execution_count": 185,
   "id": "5c84467e",
   "metadata": {},
   "outputs": [
    {
     "data": {
      "text/plain": [
       "'F:\\\\TMLC_Working_dirctory'"
      ]
     },
     "execution_count": 185,
     "metadata": {},
     "output_type": "execute_result"
    }
   ],
   "source": [
    "path ='F:\\TMLC_Working_dirctory'\n",
    "os.chdir(path)\n",
    "os.getcwd()\n",
    " "
   ]
  },
  {
   "cell_type": "code",
   "execution_count": 186,
   "id": "85199d19",
   "metadata": {
    "id": "85199d19"
   },
   "outputs": [],
   "source": [
    "train = pd.read_csv(\"Health_insurance.csv\")"
   ]
  },
  {
   "cell_type": "code",
   "execution_count": 187,
   "id": "80d0c49e",
   "metadata": {
    "colab": {
     "base_uri": "https://localhost:8080/",
     "height": 243
    },
    "id": "80d0c49e",
    "outputId": "2fc9b51e-39a7-4d14-a75c-eb280de0e996"
   },
   "outputs": [
    {
     "data": {
      "text/html": [
       "<div>\n",
       "<style scoped>\n",
       "    .dataframe tbody tr th:only-of-type {\n",
       "        vertical-align: middle;\n",
       "    }\n",
       "\n",
       "    .dataframe tbody tr th {\n",
       "        vertical-align: top;\n",
       "    }\n",
       "\n",
       "    .dataframe thead th {\n",
       "        text-align: right;\n",
       "    }\n",
       "</style>\n",
       "<table border=\"1\" class=\"dataframe\">\n",
       "  <thead>\n",
       "    <tr style=\"text-align: right;\">\n",
       "      <th></th>\n",
       "      <th>ID</th>\n",
       "      <th>City_Code</th>\n",
       "      <th>Region_Code</th>\n",
       "      <th>Accomodation_Type</th>\n",
       "      <th>Reco_Insurance_Type</th>\n",
       "      <th>Upper_Age</th>\n",
       "      <th>Lower_Age</th>\n",
       "      <th>Is_Spouse</th>\n",
       "      <th>Health Indicator</th>\n",
       "      <th>Holding_Policy_Duration</th>\n",
       "      <th>Holding_Policy_Type</th>\n",
       "      <th>Reco_Policy_Cat</th>\n",
       "      <th>Reco_Policy_Premium</th>\n",
       "      <th>Response</th>\n",
       "    </tr>\n",
       "  </thead>\n",
       "  <tbody>\n",
       "    <tr>\n",
       "      <th>0</th>\n",
       "      <td>1</td>\n",
       "      <td>C3</td>\n",
       "      <td>3213</td>\n",
       "      <td>Rented</td>\n",
       "      <td>Individual</td>\n",
       "      <td>36</td>\n",
       "      <td>36</td>\n",
       "      <td>No</td>\n",
       "      <td>X1</td>\n",
       "      <td>14+</td>\n",
       "      <td>3.0</td>\n",
       "      <td>22</td>\n",
       "      <td>11628.0</td>\n",
       "      <td>0</td>\n",
       "    </tr>\n",
       "    <tr>\n",
       "      <th>1</th>\n",
       "      <td>2</td>\n",
       "      <td>C5</td>\n",
       "      <td>1117</td>\n",
       "      <td>Owned</td>\n",
       "      <td>Joint</td>\n",
       "      <td>75</td>\n",
       "      <td>22</td>\n",
       "      <td>No</td>\n",
       "      <td>X2</td>\n",
       "      <td>NaN</td>\n",
       "      <td>NaN</td>\n",
       "      <td>22</td>\n",
       "      <td>30510.0</td>\n",
       "      <td>0</td>\n",
       "    </tr>\n",
       "    <tr>\n",
       "      <th>2</th>\n",
       "      <td>3</td>\n",
       "      <td>C5</td>\n",
       "      <td>3732</td>\n",
       "      <td>Owned</td>\n",
       "      <td>Individual</td>\n",
       "      <td>32</td>\n",
       "      <td>32</td>\n",
       "      <td>No</td>\n",
       "      <td>NaN</td>\n",
       "      <td>1</td>\n",
       "      <td>1.0</td>\n",
       "      <td>19</td>\n",
       "      <td>7450.0</td>\n",
       "      <td>1</td>\n",
       "    </tr>\n",
       "    <tr>\n",
       "      <th>3</th>\n",
       "      <td>4</td>\n",
       "      <td>C24</td>\n",
       "      <td>4378</td>\n",
       "      <td>Owned</td>\n",
       "      <td>Joint</td>\n",
       "      <td>52</td>\n",
       "      <td>48</td>\n",
       "      <td>No</td>\n",
       "      <td>X1</td>\n",
       "      <td>14+</td>\n",
       "      <td>3.0</td>\n",
       "      <td>19</td>\n",
       "      <td>17780.0</td>\n",
       "      <td>0</td>\n",
       "    </tr>\n",
       "    <tr>\n",
       "      <th>4</th>\n",
       "      <td>5</td>\n",
       "      <td>C8</td>\n",
       "      <td>2190</td>\n",
       "      <td>Rented</td>\n",
       "      <td>Individual</td>\n",
       "      <td>44</td>\n",
       "      <td>44</td>\n",
       "      <td>No</td>\n",
       "      <td>X2</td>\n",
       "      <td>3</td>\n",
       "      <td>1.0</td>\n",
       "      <td>16</td>\n",
       "      <td>10404.0</td>\n",
       "      <td>0</td>\n",
       "    </tr>\n",
       "  </tbody>\n",
       "</table>\n",
       "</div>"
      ],
      "text/plain": [
       "   ID City_Code  Region_Code Accomodation_Type Reco_Insurance_Type  Upper_Age  \\\n",
       "0   1        C3         3213            Rented          Individual         36   \n",
       "1   2        C5         1117             Owned               Joint         75   \n",
       "2   3        C5         3732             Owned          Individual         32   \n",
       "3   4       C24         4378             Owned               Joint         52   \n",
       "4   5        C8         2190            Rented          Individual         44   \n",
       "\n",
       "   Lower_Age Is_Spouse Health Indicator Holding_Policy_Duration  \\\n",
       "0         36        No               X1                     14+   \n",
       "1         22        No               X2                     NaN   \n",
       "2         32        No              NaN                       1   \n",
       "3         48        No               X1                     14+   \n",
       "4         44        No               X2                       3   \n",
       "\n",
       "   Holding_Policy_Type  Reco_Policy_Cat  Reco_Policy_Premium  Response  \n",
       "0                  3.0               22              11628.0         0  \n",
       "1                  NaN               22              30510.0         0  \n",
       "2                  1.0               19               7450.0         1  \n",
       "3                  3.0               19              17780.0         0  \n",
       "4                  1.0               16              10404.0         0  "
      ]
     },
     "execution_count": 187,
     "metadata": {},
     "output_type": "execute_result"
    }
   ],
   "source": [
    "## Top 5 records\n",
    "train.head()"
   ]
  },
  {
   "cell_type": "code",
   "execution_count": 188,
   "id": "524caba1",
   "metadata": {},
   "outputs": [
    {
     "data": {
      "text/html": [
       "<div>\n",
       "<style scoped>\n",
       "    .dataframe tbody tr th:only-of-type {\n",
       "        vertical-align: middle;\n",
       "    }\n",
       "\n",
       "    .dataframe tbody tr th {\n",
       "        vertical-align: top;\n",
       "    }\n",
       "\n",
       "    .dataframe thead th {\n",
       "        text-align: right;\n",
       "    }\n",
       "</style>\n",
       "<table border=\"1\" class=\"dataframe\">\n",
       "  <thead>\n",
       "    <tr style=\"text-align: right;\">\n",
       "      <th></th>\n",
       "      <th>ID</th>\n",
       "      <th>City_Code</th>\n",
       "      <th>Region_Code</th>\n",
       "      <th>Accomodation_Type</th>\n",
       "      <th>Reco_Insurance_Type</th>\n",
       "      <th>Upper_Age</th>\n",
       "      <th>Lower_Age</th>\n",
       "      <th>Is_Spouse</th>\n",
       "      <th>Health Indicator</th>\n",
       "      <th>Holding_Policy_Duration</th>\n",
       "      <th>Holding_Policy_Type</th>\n",
       "      <th>Reco_Policy_Cat</th>\n",
       "      <th>Reco_Policy_Premium</th>\n",
       "      <th>Response</th>\n",
       "    </tr>\n",
       "  </thead>\n",
       "  <tbody>\n",
       "    <tr>\n",
       "      <th>27458</th>\n",
       "      <td>27459</td>\n",
       "      <td>C11</td>\n",
       "      <td>4404</td>\n",
       "      <td>Rented</td>\n",
       "      <td>Individual</td>\n",
       "      <td>60</td>\n",
       "      <td>60</td>\n",
       "      <td>No</td>\n",
       "      <td>X2</td>\n",
       "      <td>3</td>\n",
       "      <td>1.0</td>\n",
       "      <td>12</td>\n",
       "      <td>19680.0</td>\n",
       "      <td>0</td>\n",
       "    </tr>\n",
       "    <tr>\n",
       "      <th>37698</th>\n",
       "      <td>37699</td>\n",
       "      <td>C1</td>\n",
       "      <td>2841</td>\n",
       "      <td>Rented</td>\n",
       "      <td>Individual</td>\n",
       "      <td>47</td>\n",
       "      <td>47</td>\n",
       "      <td>No</td>\n",
       "      <td>X1</td>\n",
       "      <td>4</td>\n",
       "      <td>3.0</td>\n",
       "      <td>13</td>\n",
       "      <td>17940.0</td>\n",
       "      <td>0</td>\n",
       "    </tr>\n",
       "    <tr>\n",
       "      <th>18717</th>\n",
       "      <td>18718</td>\n",
       "      <td>C9</td>\n",
       "      <td>157</td>\n",
       "      <td>Rented</td>\n",
       "      <td>Individual</td>\n",
       "      <td>47</td>\n",
       "      <td>47</td>\n",
       "      <td>No</td>\n",
       "      <td>NaN</td>\n",
       "      <td>1</td>\n",
       "      <td>1.0</td>\n",
       "      <td>4</td>\n",
       "      <td>13020.0</td>\n",
       "      <td>0</td>\n",
       "    </tr>\n",
       "    <tr>\n",
       "      <th>20622</th>\n",
       "      <td>20623</td>\n",
       "      <td>C1</td>\n",
       "      <td>767</td>\n",
       "      <td>Owned</td>\n",
       "      <td>Individual</td>\n",
       "      <td>57</td>\n",
       "      <td>57</td>\n",
       "      <td>No</td>\n",
       "      <td>NaN</td>\n",
       "      <td>NaN</td>\n",
       "      <td>NaN</td>\n",
       "      <td>12</td>\n",
       "      <td>13442.0</td>\n",
       "      <td>0</td>\n",
       "    </tr>\n",
       "    <tr>\n",
       "      <th>35749</th>\n",
       "      <td>35750</td>\n",
       "      <td>C3</td>\n",
       "      <td>3343</td>\n",
       "      <td>Rented</td>\n",
       "      <td>Individual</td>\n",
       "      <td>31</td>\n",
       "      <td>31</td>\n",
       "      <td>No</td>\n",
       "      <td>X2</td>\n",
       "      <td>5</td>\n",
       "      <td>1.0</td>\n",
       "      <td>19</td>\n",
       "      <td>9814.0</td>\n",
       "      <td>1</td>\n",
       "    </tr>\n",
       "  </tbody>\n",
       "</table>\n",
       "</div>"
      ],
      "text/plain": [
       "          ID City_Code  Region_Code Accomodation_Type Reco_Insurance_Type  \\\n",
       "27458  27459       C11         4404            Rented          Individual   \n",
       "37698  37699        C1         2841            Rented          Individual   \n",
       "18717  18718        C9          157            Rented          Individual   \n",
       "20622  20623        C1          767             Owned          Individual   \n",
       "35749  35750        C3         3343            Rented          Individual   \n",
       "\n",
       "       Upper_Age  Lower_Age Is_Spouse Health Indicator  \\\n",
       "27458         60         60        No               X2   \n",
       "37698         47         47        No               X1   \n",
       "18717         47         47        No              NaN   \n",
       "20622         57         57        No              NaN   \n",
       "35749         31         31        No               X2   \n",
       "\n",
       "      Holding_Policy_Duration  Holding_Policy_Type  Reco_Policy_Cat  \\\n",
       "27458                       3                  1.0               12   \n",
       "37698                       4                  3.0               13   \n",
       "18717                       1                  1.0                4   \n",
       "20622                     NaN                  NaN               12   \n",
       "35749                       5                  1.0               19   \n",
       "\n",
       "       Reco_Policy_Premium  Response  \n",
       "27458              19680.0         0  \n",
       "37698              17940.0         0  \n",
       "18717              13020.0         0  \n",
       "20622              13442.0         0  \n",
       "35749               9814.0         1  "
      ]
     },
     "execution_count": 188,
     "metadata": {},
     "output_type": "execute_result"
    }
   ],
   "source": [
    "## Sample 5 record \n",
    "train.sample(5)"
   ]
  },
  {
   "cell_type": "code",
   "execution_count": 189,
   "id": "b635cdd9",
   "metadata": {},
   "outputs": [
    {
     "data": {
      "text/plain": [
       "(50882, 14)"
      ]
     },
     "execution_count": 189,
     "metadata": {},
     "output_type": "execute_result"
    }
   ],
   "source": [
    "train.shape"
   ]
  },
  {
   "cell_type": "markdown",
   "id": "7768be2e",
   "metadata": {},
   "source": [
    "### This data set has 14 columns and 50882 records , Respose is "
   ]
  },
  {
   "cell_type": "code",
   "execution_count": 190,
   "id": "660033c7",
   "metadata": {
    "id": "660033c7",
    "scrolled": true
   },
   "outputs": [
    {
     "data": {
      "text/plain": [
       "Index(['ID', 'City_Code', 'Region_Code', 'Accomodation_Type',\n",
       "       'Reco_Insurance_Type', 'Upper_Age', 'Lower_Age', 'Is_Spouse',\n",
       "       'Health Indicator', 'Holding_Policy_Duration', 'Holding_Policy_Type',\n",
       "       'Reco_Policy_Cat', 'Reco_Policy_Premium', 'Response'],\n",
       "      dtype='object')"
      ]
     },
     "execution_count": 190,
     "metadata": {},
     "output_type": "execute_result"
    }
   ],
   "source": [
    "train.columns"
   ]
  },
  {
   "cell_type": "code",
   "execution_count": 191,
   "id": "6127e1bf",
   "metadata": {},
   "outputs": [
    {
     "data": {
      "text/plain": [
       "ID                           int64\n",
       "City_Code                   object\n",
       "Region_Code                  int64\n",
       "Accomodation_Type           object\n",
       "Reco_Insurance_Type         object\n",
       "Upper_Age                    int64\n",
       "Lower_Age                    int64\n",
       "Is_Spouse                   object\n",
       "Health Indicator            object\n",
       "Holding_Policy_Duration     object\n",
       "Holding_Policy_Type        float64\n",
       "Reco_Policy_Cat              int64\n",
       "Reco_Policy_Premium        float64\n",
       "Response                     int64\n",
       "dtype: object"
      ]
     },
     "execution_count": 191,
     "metadata": {},
     "output_type": "execute_result"
    }
   ],
   "source": [
    "train.dtypes"
   ]
  },
  {
   "cell_type": "code",
   "execution_count": 192,
   "id": "382bd155",
   "metadata": {},
   "outputs": [
    {
     "data": {
      "text/html": [
       "<div>\n",
       "<style scoped>\n",
       "    .dataframe tbody tr th:only-of-type {\n",
       "        vertical-align: middle;\n",
       "    }\n",
       "\n",
       "    .dataframe tbody tr th {\n",
       "        vertical-align: top;\n",
       "    }\n",
       "\n",
       "    .dataframe thead th {\n",
       "        text-align: right;\n",
       "    }\n",
       "</style>\n",
       "<table border=\"1\" class=\"dataframe\">\n",
       "  <thead>\n",
       "    <tr style=\"text-align: right;\">\n",
       "      <th></th>\n",
       "      <th>ID</th>\n",
       "      <th>Region_Code</th>\n",
       "      <th>Upper_Age</th>\n",
       "      <th>Lower_Age</th>\n",
       "      <th>Holding_Policy_Type</th>\n",
       "      <th>Reco_Policy_Cat</th>\n",
       "      <th>Reco_Policy_Premium</th>\n",
       "      <th>Response</th>\n",
       "    </tr>\n",
       "  </thead>\n",
       "  <tbody>\n",
       "    <tr>\n",
       "      <th>count</th>\n",
       "      <td>50882.000000</td>\n",
       "      <td>50882.000000</td>\n",
       "      <td>50882.000000</td>\n",
       "      <td>50882.000000</td>\n",
       "      <td>30631.000000</td>\n",
       "      <td>50882.000000</td>\n",
       "      <td>50882.000000</td>\n",
       "      <td>50882.000000</td>\n",
       "    </tr>\n",
       "    <tr>\n",
       "      <th>mean</th>\n",
       "      <td>25441.500000</td>\n",
       "      <td>1732.788707</td>\n",
       "      <td>44.856275</td>\n",
       "      <td>42.738866</td>\n",
       "      <td>2.439228</td>\n",
       "      <td>15.115188</td>\n",
       "      <td>14183.950069</td>\n",
       "      <td>0.239947</td>\n",
       "    </tr>\n",
       "    <tr>\n",
       "      <th>std</th>\n",
       "      <td>14688.512535</td>\n",
       "      <td>1424.081652</td>\n",
       "      <td>17.310271</td>\n",
       "      <td>17.319375</td>\n",
       "      <td>1.025923</td>\n",
       "      <td>6.340663</td>\n",
       "      <td>6590.074873</td>\n",
       "      <td>0.427055</td>\n",
       "    </tr>\n",
       "    <tr>\n",
       "      <th>min</th>\n",
       "      <td>1.000000</td>\n",
       "      <td>1.000000</td>\n",
       "      <td>18.000000</td>\n",
       "      <td>16.000000</td>\n",
       "      <td>1.000000</td>\n",
       "      <td>1.000000</td>\n",
       "      <td>2280.000000</td>\n",
       "      <td>0.000000</td>\n",
       "    </tr>\n",
       "    <tr>\n",
       "      <th>25%</th>\n",
       "      <td>12721.250000</td>\n",
       "      <td>523.000000</td>\n",
       "      <td>28.000000</td>\n",
       "      <td>27.000000</td>\n",
       "      <td>1.000000</td>\n",
       "      <td>12.000000</td>\n",
       "      <td>9248.000000</td>\n",
       "      <td>0.000000</td>\n",
       "    </tr>\n",
       "    <tr>\n",
       "      <th>50%</th>\n",
       "      <td>25441.500000</td>\n",
       "      <td>1391.000000</td>\n",
       "      <td>44.000000</td>\n",
       "      <td>40.000000</td>\n",
       "      <td>3.000000</td>\n",
       "      <td>17.000000</td>\n",
       "      <td>13178.000000</td>\n",
       "      <td>0.000000</td>\n",
       "    </tr>\n",
       "    <tr>\n",
       "      <th>75%</th>\n",
       "      <td>38161.750000</td>\n",
       "      <td>2667.000000</td>\n",
       "      <td>59.000000</td>\n",
       "      <td>57.000000</td>\n",
       "      <td>3.000000</td>\n",
       "      <td>20.000000</td>\n",
       "      <td>18096.000000</td>\n",
       "      <td>0.000000</td>\n",
       "    </tr>\n",
       "    <tr>\n",
       "      <th>max</th>\n",
       "      <td>50882.000000</td>\n",
       "      <td>6194.000000</td>\n",
       "      <td>75.000000</td>\n",
       "      <td>75.000000</td>\n",
       "      <td>4.000000</td>\n",
       "      <td>22.000000</td>\n",
       "      <td>43350.400000</td>\n",
       "      <td>1.000000</td>\n",
       "    </tr>\n",
       "  </tbody>\n",
       "</table>\n",
       "</div>"
      ],
      "text/plain": [
       "                 ID   Region_Code     Upper_Age     Lower_Age  \\\n",
       "count  50882.000000  50882.000000  50882.000000  50882.000000   \n",
       "mean   25441.500000   1732.788707     44.856275     42.738866   \n",
       "std    14688.512535   1424.081652     17.310271     17.319375   \n",
       "min        1.000000      1.000000     18.000000     16.000000   \n",
       "25%    12721.250000    523.000000     28.000000     27.000000   \n",
       "50%    25441.500000   1391.000000     44.000000     40.000000   \n",
       "75%    38161.750000   2667.000000     59.000000     57.000000   \n",
       "max    50882.000000   6194.000000     75.000000     75.000000   \n",
       "\n",
       "       Holding_Policy_Type  Reco_Policy_Cat  Reco_Policy_Premium      Response  \n",
       "count         30631.000000     50882.000000         50882.000000  50882.000000  \n",
       "mean              2.439228        15.115188         14183.950069      0.239947  \n",
       "std               1.025923         6.340663          6590.074873      0.427055  \n",
       "min               1.000000         1.000000          2280.000000      0.000000  \n",
       "25%               1.000000        12.000000          9248.000000      0.000000  \n",
       "50%               3.000000        17.000000         13178.000000      0.000000  \n",
       "75%               3.000000        20.000000         18096.000000      0.000000  \n",
       "max               4.000000        22.000000         43350.400000      1.000000  "
      ]
     },
     "execution_count": 192,
     "metadata": {},
     "output_type": "execute_result"
    }
   ],
   "source": [
    "#Numerical features\n",
    "train.describe()"
   ]
  },
  {
   "cell_type": "code",
   "execution_count": 193,
   "id": "e8301144",
   "metadata": {},
   "outputs": [
    {
     "data": {
      "text/html": [
       "<div>\n",
       "<style scoped>\n",
       "    .dataframe tbody tr th:only-of-type {\n",
       "        vertical-align: middle;\n",
       "    }\n",
       "\n",
       "    .dataframe tbody tr th {\n",
       "        vertical-align: top;\n",
       "    }\n",
       "\n",
       "    .dataframe thead th {\n",
       "        text-align: right;\n",
       "    }\n",
       "</style>\n",
       "<table border=\"1\" class=\"dataframe\">\n",
       "  <thead>\n",
       "    <tr style=\"text-align: right;\">\n",
       "      <th></th>\n",
       "      <th>City_Code</th>\n",
       "      <th>Accomodation_Type</th>\n",
       "      <th>Reco_Insurance_Type</th>\n",
       "      <th>Is_Spouse</th>\n",
       "      <th>Health Indicator</th>\n",
       "      <th>Holding_Policy_Duration</th>\n",
       "    </tr>\n",
       "  </thead>\n",
       "  <tbody>\n",
       "    <tr>\n",
       "      <th>count</th>\n",
       "      <td>50882</td>\n",
       "      <td>50882</td>\n",
       "      <td>50882</td>\n",
       "      <td>50882</td>\n",
       "      <td>39191</td>\n",
       "      <td>30631</td>\n",
       "    </tr>\n",
       "    <tr>\n",
       "      <th>unique</th>\n",
       "      <td>36</td>\n",
       "      <td>2</td>\n",
       "      <td>2</td>\n",
       "      <td>2</td>\n",
       "      <td>9</td>\n",
       "      <td>15</td>\n",
       "    </tr>\n",
       "    <tr>\n",
       "      <th>top</th>\n",
       "      <td>C1</td>\n",
       "      <td>Owned</td>\n",
       "      <td>Individual</td>\n",
       "      <td>No</td>\n",
       "      <td>X1</td>\n",
       "      <td>1</td>\n",
       "    </tr>\n",
       "    <tr>\n",
       "      <th>freq</th>\n",
       "      <td>8973</td>\n",
       "      <td>27951</td>\n",
       "      <td>40536</td>\n",
       "      <td>42460</td>\n",
       "      <td>13010</td>\n",
       "      <td>4499</td>\n",
       "    </tr>\n",
       "  </tbody>\n",
       "</table>\n",
       "</div>"
      ],
      "text/plain": [
       "       City_Code Accomodation_Type Reco_Insurance_Type Is_Spouse  \\\n",
       "count      50882             50882               50882     50882   \n",
       "unique        36                 2                   2         2   \n",
       "top           C1             Owned          Individual        No   \n",
       "freq        8973             27951               40536     42460   \n",
       "\n",
       "       Health Indicator Holding_Policy_Duration  \n",
       "count             39191                   30631  \n",
       "unique                9                      15  \n",
       "top                  X1                       1  \n",
       "freq              13010                    4499  "
      ]
     },
     "execution_count": 193,
     "metadata": {},
     "output_type": "execute_result"
    }
   ],
   "source": [
    "#Categorical features\n",
    "train.describe(include = ['object'])"
   ]
  },
  {
   "cell_type": "code",
   "execution_count": 194,
   "id": "88400ac6",
   "metadata": {},
   "outputs": [
    {
     "data": {
      "text/plain": [
       "ID                         False\n",
       "City_Code                  False\n",
       "Region_Code                False\n",
       "Accomodation_Type          False\n",
       "Reco_Insurance_Type        False\n",
       "Upper_Age                  False\n",
       "Lower_Age                  False\n",
       "Is_Spouse                  False\n",
       "Health Indicator            True\n",
       "Holding_Policy_Duration     True\n",
       "Holding_Policy_Type         True\n",
       "Reco_Policy_Cat            False\n",
       "Reco_Policy_Premium        False\n",
       "Response                   False\n",
       "dtype: bool"
      ]
     },
     "execution_count": 194,
     "metadata": {},
     "output_type": "execute_result"
    }
   ],
   "source": [
    "train.isnull().any()"
   ]
  },
  {
   "cell_type": "markdown",
   "id": "761f7fcd",
   "metadata": {},
   "source": [
    "#####  There are lots  of NULL in health Indicator , Policy duration and policy type"
   ]
  },
  {
   "cell_type": "code",
   "execution_count": 195,
   "id": "6b549a95",
   "metadata": {},
   "outputs": [
    {
     "data": {
      "text/plain": [
       "ID                             0\n",
       "City_Code                      0\n",
       "Region_Code                    0\n",
       "Accomodation_Type              0\n",
       "Reco_Insurance_Type            0\n",
       "Upper_Age                      0\n",
       "Lower_Age                      0\n",
       "Is_Spouse                      0\n",
       "Health Indicator           11691\n",
       "Holding_Policy_Duration    20251\n",
       "Holding_Policy_Type        20251\n",
       "Reco_Policy_Cat                0\n",
       "Reco_Policy_Premium            0\n",
       "Response                       0\n",
       "dtype: int64"
      ]
     },
     "execution_count": 195,
     "metadata": {},
     "output_type": "execute_result"
    }
   ],
   "source": [
    "train.isnull().sum()"
   ]
  },
  {
   "cell_type": "code",
   "execution_count": 196,
   "id": "848ee538",
   "metadata": {},
   "outputs": [
    {
     "name": "stdout",
     "output_type": "stream",
     "text": [
      "<class 'pandas.core.frame.DataFrame'>\n",
      "RangeIndex: 50882 entries, 0 to 50881\n",
      "Data columns (total 14 columns):\n",
      " #   Column                   Non-Null Count  Dtype  \n",
      "---  ------                   --------------  -----  \n",
      " 0   ID                       50882 non-null  int64  \n",
      " 1   City_Code                50882 non-null  object \n",
      " 2   Region_Code              50882 non-null  int64  \n",
      " 3   Accomodation_Type        50882 non-null  object \n",
      " 4   Reco_Insurance_Type      50882 non-null  object \n",
      " 5   Upper_Age                50882 non-null  int64  \n",
      " 6   Lower_Age                50882 non-null  int64  \n",
      " 7   Is_Spouse                50882 non-null  object \n",
      " 8   Health Indicator         39191 non-null  object \n",
      " 9   Holding_Policy_Duration  30631 non-null  object \n",
      " 10  Holding_Policy_Type      30631 non-null  float64\n",
      " 11  Reco_Policy_Cat          50882 non-null  int64  \n",
      " 12  Reco_Policy_Premium      50882 non-null  float64\n",
      " 13  Response                 50882 non-null  int64  \n",
      "dtypes: float64(2), int64(6), object(6)\n",
      "memory usage: 5.4+ MB\n"
     ]
    }
   ],
   "source": [
    "train.info()"
   ]
  },
  {
   "cell_type": "markdown",
   "id": "14754d9a",
   "metadata": {},
   "source": [
    "#### Health Indicator"
   ]
  },
  {
   "cell_type": "code",
   "execution_count": 197,
   "id": "83355003",
   "metadata": {},
   "outputs": [
    {
     "data": {
      "text/plain": [
       "array(['X1', 'X2', nan, 'X4', 'X3', 'X6', 'X5', 'X8', 'X7', 'X9'],\n",
       "      dtype=object)"
      ]
     },
     "execution_count": 197,
     "metadata": {},
     "output_type": "execute_result"
    }
   ],
   "source": [
    "train['Health Indicator'].unique()"
   ]
  },
  {
   "cell_type": "code",
   "execution_count": 198,
   "id": "afd4b10f",
   "metadata": {},
   "outputs": [
    {
     "data": {
      "text/plain": [
       "X1    13010\n",
       "X2    10332\n",
       "X3     6762\n",
       "X4     5743\n",
       "X5     1727\n",
       "X6     1280\n",
       "X7      196\n",
       "X8       78\n",
       "X9       63\n",
       "Name: Health Indicator, dtype: int64"
      ]
     },
     "execution_count": 198,
     "metadata": {},
     "output_type": "execute_result"
    }
   ],
   "source": [
    "train['Health Indicator'].value_counts()"
   ]
  },
  {
   "cell_type": "markdown",
   "id": "6b2b9d64",
   "metadata": {},
   "source": [
    "#### Most of the health indicator are X1 and X2  NULL values filled with X0"
   ]
  },
  {
   "cell_type": "code",
   "execution_count": 199,
   "id": "a56863d4",
   "metadata": {},
   "outputs": [],
   "source": [
    "## There are 11691 null values in health indicator , create one class 'X0' which cover all null values \n",
    "train['Health Indicator'] = train['Health Indicator'].fillna('X0')\n"
   ]
  },
  {
   "cell_type": "code",
   "execution_count": 200,
   "id": "15fe1131",
   "metadata": {},
   "outputs": [
    {
     "data": {
      "text/plain": [
       "X1    13010\n",
       "X0    11691\n",
       "X2    10332\n",
       "X3     6762\n",
       "X4     5743\n",
       "X5     1727\n",
       "X6     1280\n",
       "X7      196\n",
       "X8       78\n",
       "X9       63\n",
       "Name: Health Indicator, dtype: int64"
      ]
     },
     "execution_count": 200,
     "metadata": {},
     "output_type": "execute_result"
    }
   ],
   "source": [
    "train['Health Indicator'].value_counts()"
   ]
  },
  {
   "cell_type": "code",
   "execution_count": 201,
   "id": "2ea32aae",
   "metadata": {},
   "outputs": [
    {
     "data": {
      "text/plain": [
       "array(['14+', nan, '1', '3', '5', '9', '14', '7', '2', '11', '10', '8',\n",
       "       '6', '4', '13', '12'], dtype=object)"
      ]
     },
     "execution_count": 201,
     "metadata": {},
     "output_type": "execute_result"
    }
   ],
   "source": [
    "train['Holding_Policy_Duration'].unique()"
   ]
  },
  {
   "cell_type": "code",
   "execution_count": 202,
   "id": "7717659d",
   "metadata": {},
   "outputs": [],
   "source": [
    "## Policy Duration iis oobject type  for the presence of 14+ \n",
    "## To convert the data type , assuming all 14+ policy duration is at least 15\n",
    "train.Holding_Policy_Duration.replace(to_replace='14+', value='15', inplace = True)\n",
    "### There are 20251 null values \n",
    "#Replacing null values with 0\n",
    "train.Holding_Policy_Duration.fillna(0, inplace = True)\n",
    "\n",
    "## Lastly  make the column integer\n",
    "train['Holding_Policy_Duration'] = train.Holding_Policy_Duration.astype(int)\n"
   ]
  },
  {
   "cell_type": "code",
   "execution_count": 203,
   "id": "cb73e844",
   "metadata": {},
   "outputs": [],
   "source": [
    "#### Holding Policy type has 20251  null values , which is matching with Holding policy duration , most probably those are \n",
    "#### proposed policy\n",
    "train.loc[train['Holding_Policy_Duration'] == 0, 'Holding_Policy_Type'] = train.loc[train['Holding_Policy_Duration'] == 0, 'Holding_Policy_Type'].fillna('0')\n"
   ]
  },
  {
   "cell_type": "code",
   "execution_count": 204,
   "id": "bd4560fa",
   "metadata": {},
   "outputs": [],
   "source": [
    "#### Holding_Policy_Type should be categorical value \n",
    "#Converting the numerical values into 5 categorical values\n",
    "train['Holding_Policy_Type'] = train.Holding_Policy_Type.astype(str)"
   ]
  },
  {
   "cell_type": "code",
   "execution_count": 205,
   "id": "033102c1",
   "metadata": {},
   "outputs": [
    {
     "data": {
      "text/plain": [
       "ID                         0\n",
       "City_Code                  0\n",
       "Region_Code                0\n",
       "Accomodation_Type          0\n",
       "Reco_Insurance_Type        0\n",
       "Upper_Age                  0\n",
       "Lower_Age                  0\n",
       "Is_Spouse                  0\n",
       "Health Indicator           0\n",
       "Holding_Policy_Duration    0\n",
       "Holding_Policy_Type        0\n",
       "Reco_Policy_Cat            0\n",
       "Reco_Policy_Premium        0\n",
       "Response                   0\n",
       "dtype: int64"
      ]
     },
     "execution_count": 205,
     "metadata": {},
     "output_type": "execute_result"
    }
   ],
   "source": [
    "### now no NULL valus persist\n",
    "train.isnull().sum()"
   ]
  },
  {
   "cell_type": "code",
   "execution_count": 206,
   "id": "cd806588",
   "metadata": {},
   "outputs": [],
   "source": [
    "#Drop the ID column\n",
    "train.drop('ID', axis = 1, inplace = True)"
   ]
  },
  {
   "cell_type": "code",
   "execution_count": 207,
   "id": "fb60f132",
   "metadata": {},
   "outputs": [
    {
     "data": {
      "text/plain": [
       "array(['Rented', 'Owned'], dtype=object)"
      ]
     },
     "execution_count": 207,
     "metadata": {},
     "output_type": "execute_result"
    }
   ],
   "source": [
    "## Accomodation type \n",
    "train['Accomodation_Type'].unique()"
   ]
  },
  {
   "cell_type": "code",
   "execution_count": 208,
   "id": "5fb4fefa",
   "metadata": {},
   "outputs": [],
   "source": [
    "#### Accomodation Type has two distinct value, so converting to numeric value \n",
    "\n",
    "train['Accomodation_Type'].replace({'Owned':1, 'Rented':0}, inplace = True)\n",
    "\n",
    "train['Accomodation_Type'] = train.Accomodation_Type.astype(int)"
   ]
  },
  {
   "cell_type": "code",
   "execution_count": 209,
   "id": "29595bb4",
   "metadata": {},
   "outputs": [
    {
     "data": {
      "image/png": "[encoded data removed]",
      "text/plain": [
       "<Figure size 432x288 with 1 Axes>"
      ]
     },
     "metadata": {
      "needs_background": "light"
     },
     "output_type": "display_data"
    }
   ],
   "source": [
    "sns.distplot(train['Response']);"
   ]
  },
  {
   "cell_type": "markdown",
   "id": "edb64e1c",
   "metadata": {},
   "source": [
    "#### Traget variable is very skewed, most of the values are 0"
   ]
  },
  {
   "cell_type": "code",
   "execution_count": 210,
   "id": "84faac86",
   "metadata": {},
   "outputs": [
    {
     "data": {
      "text/plain": [
       "Holding_Policy_Duration    1.285978\n",
       "Response                   1.217936\n",
       "Region_Code                0.798096\n",
       "Reco_Policy_Premium        0.782463\n",
       "Lower_Age                  0.330594\n",
       "Upper_Age                  0.217370\n",
       "Accomodation_Type         -0.198293\n",
       "Reco_Policy_Cat           -0.928224\n",
       "dtype: float64"
      ]
     },
     "execution_count": 210,
     "metadata": {},
     "output_type": "execute_result"
    }
   ],
   "source": [
    "#skew ness of data \n",
    "# determine index of continous attributes \n",
    "num_cols = train.dtypes[train.dtypes != 'object'].index \n",
    "skew_data =train[num_cols].skew().sort_values(ascending=False)\n",
    "skew_data\n"
   ]
  },
  {
   "cell_type": "code",
   "execution_count": 211,
   "id": "79279b30",
   "metadata": {},
   "outputs": [
    {
     "data": {
      "image/png": "[encoded data removed]",
      "text/plain": [
       "<Figure size 1800x576 with 1 Axes>"
      ]
     },
     "metadata": {
      "needs_background": "light"
     },
     "output_type": "display_data"
    }
   ],
   "source": [
    "plt.figure(figsize=(25,8))\n",
    "sns.histplot(data=train, x='Response',   hue='Response' , fill=True)\n",
    "plt.show()"
   ]
  },
  {
   "cell_type": "code",
   "execution_count": 212,
   "id": "15585fc2",
   "metadata": {},
   "outputs": [
    {
     "data": {
      "image/png": "[encoded data removed]",
      "text/plain": [
       "<Figure size 1800x576 with 1 Axes>"
      ]
     },
     "metadata": {
      "needs_background": "light"
     },
     "output_type": "display_data"
    }
   ],
   "source": [
    "plt.figure(figsize=(25,8))\n",
    "sns.histplot(data=train, x='Holding_Policy_Duration',   hue='Holding_Policy_Duration' , fill=True)\n",
    "plt.show()"
   ]
  },
  {
   "cell_type": "markdown",
   "id": "dbe2ad5f",
   "metadata": {},
   "source": [
    "#### Holding_Policy_Duration  is also skewed, mostly policy in proposal state or  for non turn out cutsomer where customer didn't not purchase"
   ]
  },
  {
   "cell_type": "code",
   "execution_count": 213,
   "id": "c8304648",
   "metadata": {},
   "outputs": [
    {
     "data": {
      "text/html": [
       "<div>\n",
       "<style scoped>\n",
       "    .dataframe tbody tr th:only-of-type {\n",
       "        vertical-align: middle;\n",
       "    }\n",
       "\n",
       "    .dataframe tbody tr th {\n",
       "        vertical-align: top;\n",
       "    }\n",
       "\n",
       "    .dataframe thead th {\n",
       "        text-align: right;\n",
       "    }\n",
       "</style>\n",
       "<table border=\"1\" class=\"dataframe\">\n",
       "  <thead>\n",
       "    <tr style=\"text-align: right;\">\n",
       "      <th></th>\n",
       "      <th>Region_Code</th>\n",
       "      <th>Accomodation_Type</th>\n",
       "      <th>Upper_Age</th>\n",
       "      <th>Lower_Age</th>\n",
       "      <th>Holding_Policy_Duration</th>\n",
       "      <th>Reco_Policy_Cat</th>\n",
       "      <th>Reco_Policy_Premium</th>\n",
       "      <th>Response</th>\n",
       "    </tr>\n",
       "  </thead>\n",
       "  <tbody>\n",
       "    <tr>\n",
       "      <th>count</th>\n",
       "      <td>50882.000000</td>\n",
       "      <td>50882.000000</td>\n",
       "      <td>50882.000000</td>\n",
       "      <td>50882.000000</td>\n",
       "      <td>50882.000000</td>\n",
       "      <td>50882.000000</td>\n",
       "      <td>50882.000000</td>\n",
       "      <td>50882.000000</td>\n",
       "    </tr>\n",
       "    <tr>\n",
       "      <th>mean</th>\n",
       "      <td>1732.788707</td>\n",
       "      <td>0.549330</td>\n",
       "      <td>44.856275</td>\n",
       "      <td>42.738866</td>\n",
       "      <td>3.706379</td>\n",
       "      <td>15.115188</td>\n",
       "      <td>14183.950069</td>\n",
       "      <td>0.239947</td>\n",
       "    </tr>\n",
       "    <tr>\n",
       "      <th>std</th>\n",
       "      <td>1424.081652</td>\n",
       "      <td>0.497566</td>\n",
       "      <td>17.310271</td>\n",
       "      <td>17.319375</td>\n",
       "      <td>4.766053</td>\n",
       "      <td>6.340663</td>\n",
       "      <td>6590.074873</td>\n",
       "      <td>0.427055</td>\n",
       "    </tr>\n",
       "    <tr>\n",
       "      <th>min</th>\n",
       "      <td>1.000000</td>\n",
       "      <td>0.000000</td>\n",
       "      <td>18.000000</td>\n",
       "      <td>16.000000</td>\n",
       "      <td>0.000000</td>\n",
       "      <td>1.000000</td>\n",
       "      <td>2280.000000</td>\n",
       "      <td>0.000000</td>\n",
       "    </tr>\n",
       "    <tr>\n",
       "      <th>25%</th>\n",
       "      <td>523.000000</td>\n",
       "      <td>0.000000</td>\n",
       "      <td>28.000000</td>\n",
       "      <td>27.000000</td>\n",
       "      <td>0.000000</td>\n",
       "      <td>12.000000</td>\n",
       "      <td>9248.000000</td>\n",
       "      <td>0.000000</td>\n",
       "    </tr>\n",
       "    <tr>\n",
       "      <th>50%</th>\n",
       "      <td>1391.000000</td>\n",
       "      <td>1.000000</td>\n",
       "      <td>44.000000</td>\n",
       "      <td>40.000000</td>\n",
       "      <td>2.000000</td>\n",
       "      <td>17.000000</td>\n",
       "      <td>13178.000000</td>\n",
       "      <td>0.000000</td>\n",
       "    </tr>\n",
       "    <tr>\n",
       "      <th>75%</th>\n",
       "      <td>2667.000000</td>\n",
       "      <td>1.000000</td>\n",
       "      <td>59.000000</td>\n",
       "      <td>57.000000</td>\n",
       "      <td>6.000000</td>\n",
       "      <td>20.000000</td>\n",
       "      <td>18096.000000</td>\n",
       "      <td>0.000000</td>\n",
       "    </tr>\n",
       "    <tr>\n",
       "      <th>max</th>\n",
       "      <td>6194.000000</td>\n",
       "      <td>1.000000</td>\n",
       "      <td>75.000000</td>\n",
       "      <td>75.000000</td>\n",
       "      <td>15.000000</td>\n",
       "      <td>22.000000</td>\n",
       "      <td>43350.400000</td>\n",
       "      <td>1.000000</td>\n",
       "    </tr>\n",
       "  </tbody>\n",
       "</table>\n",
       "</div>"
      ],
      "text/plain": [
       "        Region_Code  Accomodation_Type     Upper_Age     Lower_Age  \\\n",
       "count  50882.000000       50882.000000  50882.000000  50882.000000   \n",
       "mean    1732.788707           0.549330     44.856275     42.738866   \n",
       "std     1424.081652           0.497566     17.310271     17.319375   \n",
       "min        1.000000           0.000000     18.000000     16.000000   \n",
       "25%      523.000000           0.000000     28.000000     27.000000   \n",
       "50%     1391.000000           1.000000     44.000000     40.000000   \n",
       "75%     2667.000000           1.000000     59.000000     57.000000   \n",
       "max     6194.000000           1.000000     75.000000     75.000000   \n",
       "\n",
       "       Holding_Policy_Duration  Reco_Policy_Cat  Reco_Policy_Premium  \\\n",
       "count             50882.000000     50882.000000         50882.000000   \n",
       "mean                  3.706379        15.115188         14183.950069   \n",
       "std                   4.766053         6.340663          6590.074873   \n",
       "min                   0.000000         1.000000          2280.000000   \n",
       "25%                   0.000000        12.000000          9248.000000   \n",
       "50%                   2.000000        17.000000         13178.000000   \n",
       "75%                   6.000000        20.000000         18096.000000   \n",
       "max                  15.000000        22.000000         43350.400000   \n",
       "\n",
       "           Response  \n",
       "count  50882.000000  \n",
       "mean       0.239947  \n",
       "std        0.427055  \n",
       "min        0.000000  \n",
       "25%        0.000000  \n",
       "50%        0.000000  \n",
       "75%        0.000000  \n",
       "max        1.000000  "
      ]
     },
     "execution_count": 213,
     "metadata": {},
     "output_type": "execute_result"
    }
   ],
   "source": [
    "train.describe()"
   ]
  },
  {
   "cell_type": "code",
   "execution_count": 214,
   "id": "3a6b37ed",
   "metadata": {},
   "outputs": [
    {
     "data": {
      "text/plain": [
       "<AxesSubplot:xlabel='Reco_Policy_Cat'>"
      ]
     },
     "execution_count": 214,
     "metadata": {},
     "output_type": "execute_result"
    },
    {
     "data": {
      "image/png": "[encoded data removed]",
      "text/plain": [
       "<Figure size 432x288 with 1 Axes>"
      ]
     },
     "metadata": {},
     "output_type": "display_data"
    }
   ],
   "source": [
    "##sns.displot(train['Reco_Policy_Cat'] )\n",
    "\n",
    "##plot = sns.distplot(train['Reco_Policy_Cat'],kde=False, bin =15)\n",
    "##plt.show()\n",
    "\n",
    "sns.set_style('whitegrid')\n",
    "sns.distplot(train['Reco_Policy_Cat'], kde = False,  bins = 30)"
   ]
  },
  {
   "cell_type": "code",
   "execution_count": 215,
   "id": "5b3a0cd5",
   "metadata": {},
   "outputs": [
    {
     "data": {
      "text/plain": [
       "<seaborn.axisgrid.FacetGrid at 0x1245739d130>"
      ]
     },
     "execution_count": 215,
     "metadata": {},
     "output_type": "execute_result"
    },
    {
     "data": {
      "image/png": "[encoded data removed]",
      "text/plain": [
       "<Figure size 360x360 with 1 Axes>"
      ]
     },
     "metadata": {},
     "output_type": "display_data"
    }
   ],
   "source": [
    "reci_pro=1/train['Reco_Policy_Cat']\n",
    "sns.displot(reci_pro)"
   ]
  },
  {
   "cell_type": "code",
   "execution_count": 216,
   "id": "2734b8e0",
   "metadata": {},
   "outputs": [
    {
     "data": {
      "image/png": "[encoded data removed]",
      "text/plain": [
       "<Figure size 432x288 with 1 Axes>"
      ]
     },
     "metadata": {},
     "output_type": "display_data"
    }
   ],
   "source": [
    "#  RECO policy type is skew type with log function\n",
    "log_pol_cat = np.log(train['Reco_Policy_Cat'])\n",
    "plot = sns.distplot(log_pol_cat,kde=True)\n",
    "plt.show()"
   ]
  },
  {
   "cell_type": "markdown",
   "id": "d328d3cb",
   "metadata": {},
   "source": [
    "#### Understanding Response with other values "
   ]
  },
  {
   "cell_type": "code",
   "execution_count": 217,
   "id": "29cc0481",
   "metadata": {},
   "outputs": [
    {
     "data": {
      "text/plain": [
       "<seaborn.axisgrid.FacetGrid at 0x1245fcdd580>"
      ]
     },
     "execution_count": 217,
     "metadata": {},
     "output_type": "execute_result"
    },
    {
     "data": {
      "image/png": "[encoded data removed]",
      "text/plain": [
       "<Figure size 413.125x360 with 1 Axes>"
      ]
     },
     "metadata": {},
     "output_type": "display_data"
    }
   ],
   "source": [
    "sns.displot(train, x=\"Reco_Policy_Cat\", hue=\"Response\", kind=\"kde\", fill=True)"
   ]
  },
  {
   "cell_type": "code",
   "execution_count": 218,
   "id": "de137503",
   "metadata": {},
   "outputs": [
    {
     "data": {
      "text/plain": [
       "<seaborn.axisgrid.FacetGrid at 0x1245b472730>"
      ]
     },
     "execution_count": 218,
     "metadata": {},
     "output_type": "execute_result"
    },
    {
     "data": {
      "image/png": "[encoded data removed]",
      "text/plain": [
       "<Figure size 413.125x360 with 1 Axes>"
      ]
     },
     "metadata": {},
     "output_type": "display_data"
    }
   ],
   "source": [
    "sns.displot(train, x=\"Reco_Policy_Premium\", hue=\"Response\", kind=\"kde\", fill=True)"
   ]
  },
  {
   "cell_type": "code",
   "execution_count": 219,
   "id": "b4d6f894",
   "metadata": {},
   "outputs": [
    {
     "data": {
      "image/png": "[encoded data removed]",
      "text/plain": [
       "<Figure size 432x288 with 1 Axes>"
      ]
     },
     "metadata": {},
     "output_type": "display_data"
    }
   ],
   "source": [
    "sns.distplot(train['Reco_Policy_Premium']);"
   ]
  },
  {
   "cell_type": "code",
   "execution_count": 220,
   "id": "8323dc8f",
   "metadata": {
    "colab": {
     "base_uri": "https://localhost:8080/"
    },
    "id": "8323dc8f",
    "outputId": "e00c6e83-35f6-48b5-f7d3-adda8fa83ae0"
   },
   "outputs": [
    {
     "data": {
      "text/plain": [
       "0    38673\n",
       "1    12209\n",
       "Name: Response, dtype: int64"
      ]
     },
     "execution_count": 220,
     "metadata": {},
     "output_type": "execute_result"
    }
   ],
   "source": [
    "train.Response.value_counts()"
   ]
  },
  {
   "cell_type": "code",
   "execution_count": 221,
   "id": "9ef9b751",
   "metadata": {
    "colab": {
     "base_uri": "https://localhost:8080/",
     "height": 174
    },
    "id": "9ef9b751",
    "outputId": "d546ca18-0efc-4f10-f2ae-ccb93f956ee0"
   },
   "outputs": [
    {
     "data": {
      "text/html": [
       "<div>\n",
       "<style scoped>\n",
       "    .dataframe tbody tr th:only-of-type {\n",
       "        vertical-align: middle;\n",
       "    }\n",
       "\n",
       "    .dataframe tbody tr th {\n",
       "        vertical-align: top;\n",
       "    }\n",
       "\n",
       "    .dataframe thead th {\n",
       "        text-align: right;\n",
       "    }\n",
       "</style>\n",
       "<table border=\"1\" class=\"dataframe\">\n",
       "  <thead>\n",
       "    <tr style=\"text-align: right;\">\n",
       "      <th></th>\n",
       "      <th>City_Code</th>\n",
       "      <th>Reco_Insurance_Type</th>\n",
       "      <th>Is_Spouse</th>\n",
       "      <th>Health Indicator</th>\n",
       "      <th>Holding_Policy_Type</th>\n",
       "    </tr>\n",
       "  </thead>\n",
       "  <tbody>\n",
       "    <tr>\n",
       "      <th>count</th>\n",
       "      <td>50882</td>\n",
       "      <td>50882</td>\n",
       "      <td>50882</td>\n",
       "      <td>50882</td>\n",
       "      <td>50882</td>\n",
       "    </tr>\n",
       "    <tr>\n",
       "      <th>unique</th>\n",
       "      <td>36</td>\n",
       "      <td>2</td>\n",
       "      <td>2</td>\n",
       "      <td>10</td>\n",
       "      <td>5</td>\n",
       "    </tr>\n",
       "    <tr>\n",
       "      <th>top</th>\n",
       "      <td>C1</td>\n",
       "      <td>Individual</td>\n",
       "      <td>No</td>\n",
       "      <td>X1</td>\n",
       "      <td>0</td>\n",
       "    </tr>\n",
       "    <tr>\n",
       "      <th>freq</th>\n",
       "      <td>8973</td>\n",
       "      <td>40536</td>\n",
       "      <td>42460</td>\n",
       "      <td>13010</td>\n",
       "      <td>20251</td>\n",
       "    </tr>\n",
       "  </tbody>\n",
       "</table>\n",
       "</div>"
      ],
      "text/plain": [
       "       City_Code Reco_Insurance_Type Is_Spouse Health Indicator  \\\n",
       "count      50882               50882     50882            50882   \n",
       "unique        36                   2         2               10   \n",
       "top           C1          Individual        No               X1   \n",
       "freq        8973               40536     42460            13010   \n",
       "\n",
       "       Holding_Policy_Type  \n",
       "count                50882  \n",
       "unique                   5  \n",
       "top                      0  \n",
       "freq                 20251  "
      ]
     },
     "execution_count": 221,
     "metadata": {},
     "output_type": "execute_result"
    }
   ],
   "source": [
    "#Categorical features\n",
    "train.describe(include = ['object'])"
   ]
  },
  {
   "cell_type": "code",
   "execution_count": 222,
   "id": "00c18257",
   "metadata": {
    "colab": {
     "base_uri": "https://localhost:8080/"
    },
    "id": "00c18257",
    "outputId": "ae8dd2e2-caaf-4144-bcb6-a3b47c025b13"
   },
   "outputs": [
    {
     "data": {
      "text/plain": [
       "5316"
      ]
     },
     "execution_count": 222,
     "metadata": {},
     "output_type": "execute_result"
    }
   ],
   "source": [
    "train.Region_Code.nunique()"
   ]
  },
  {
   "cell_type": "code",
   "execution_count": 223,
   "id": "0a2fe465",
   "metadata": {
    "colab": {
     "base_uri": "https://localhost:8080/"
    },
    "id": "0a2fe465",
    "outputId": "ba4749eb-005a-4469-c394-fd8442d5a27a"
   },
   "outputs": [
    {
     "data": {
      "text/plain": [
       "36"
      ]
     },
     "execution_count": 223,
     "metadata": {},
     "output_type": "execute_result"
    }
   ],
   "source": [
    "train.City_Code.nunique()"
   ]
  },
  {
   "cell_type": "code",
   "execution_count": 224,
   "id": "cb7deda4",
   "metadata": {},
   "outputs": [
    {
     "data": {
      "text/plain": [
       "array(['Individual', 'Joint'], dtype=object)"
      ]
     },
     "execution_count": 224,
     "metadata": {},
     "output_type": "execute_result"
    }
   ],
   "source": [
    "train['Reco_Insurance_Type'].unique()"
   ]
  },
  {
   "cell_type": "code",
   "execution_count": 225,
   "id": "23bc6cb9",
   "metadata": {},
   "outputs": [],
   "source": [
    "train['Reco_Insurance_Type'].replace({'Individual':1, 'Joint':0}, inplace = True)\n",
    "train['Reco_Insurance_Type'] = train.Reco_Insurance_Type.astype(int)"
   ]
  },
  {
   "cell_type": "code",
   "execution_count": 226,
   "id": "4c9ff829",
   "metadata": {},
   "outputs": [
    {
     "data": {
      "text/plain": [
       "array(['X1', 'X2', 'X0', 'X4', 'X3', 'X6', 'X5', 'X8', 'X7', 'X9'],\n",
       "      dtype=object)"
      ]
     },
     "execution_count": 226,
     "metadata": {},
     "output_type": "execute_result"
    }
   ],
   "source": [
    "train['Health Indicator'].unique()"
   ]
  },
  {
   "cell_type": "code",
   "execution_count": 228,
   "id": "0406c4ad",
   "metadata": {
    "id": "0406c4ad"
   },
   "outputs": [],
   "source": [
    "#Label Encoding Reco_Insurance_Type\n",
    "\n",
    "from sklearn.preprocessing import LabelEncoder\n",
    "lm = LabelEncoder()\n",
    "a  = ['Is_Spouse']\n",
    "for i in np.arange(len(a)):\n",
    "    train[a[i]] = lm.fit_transform(train[a[i]])\n"
   ]
  },
  {
   "cell_type": "code",
   "execution_count": 229,
   "id": "16561174",
   "metadata": {
    "colab": {
     "base_uri": "https://localhost:8080/",
     "height": 243
    },
    "id": "16561174",
    "outputId": "acbb8f87-053f-4687-d47a-0686ef7724b4"
   },
   "outputs": [
    {
     "data": {
      "text/html": [
       "<div>\n",
       "<style scoped>\n",
       "    .dataframe tbody tr th:only-of-type {\n",
       "        vertical-align: middle;\n",
       "    }\n",
       "\n",
       "    .dataframe tbody tr th {\n",
       "        vertical-align: top;\n",
       "    }\n",
       "\n",
       "    .dataframe thead th {\n",
       "        text-align: right;\n",
       "    }\n",
       "</style>\n",
       "<table border=\"1\" class=\"dataframe\">\n",
       "  <thead>\n",
       "    <tr style=\"text-align: right;\">\n",
       "      <th></th>\n",
       "      <th>City_Code</th>\n",
       "      <th>Region_Code</th>\n",
       "      <th>Accomodation_Type</th>\n",
       "      <th>Reco_Insurance_Type</th>\n",
       "      <th>Upper_Age</th>\n",
       "      <th>Lower_Age</th>\n",
       "      <th>Is_Spouse</th>\n",
       "      <th>Health Indicator</th>\n",
       "      <th>Holding_Policy_Duration</th>\n",
       "      <th>Holding_Policy_Type</th>\n",
       "      <th>Reco_Policy_Cat</th>\n",
       "      <th>Reco_Policy_Premium</th>\n",
       "      <th>Response</th>\n",
       "    </tr>\n",
       "  </thead>\n",
       "  <tbody>\n",
       "    <tr>\n",
       "      <th>0</th>\n",
       "      <td>C3</td>\n",
       "      <td>3213</td>\n",
       "      <td>0</td>\n",
       "      <td>1</td>\n",
       "      <td>36</td>\n",
       "      <td>36</td>\n",
       "      <td>0</td>\n",
       "      <td>X1</td>\n",
       "      <td>15</td>\n",
       "      <td>3.0</td>\n",
       "      <td>22</td>\n",
       "      <td>11628.0</td>\n",
       "      <td>0</td>\n",
       "    </tr>\n",
       "    <tr>\n",
       "      <th>1</th>\n",
       "      <td>C5</td>\n",
       "      <td>1117</td>\n",
       "      <td>1</td>\n",
       "      <td>0</td>\n",
       "      <td>75</td>\n",
       "      <td>22</td>\n",
       "      <td>0</td>\n",
       "      <td>X2</td>\n",
       "      <td>0</td>\n",
       "      <td>0</td>\n",
       "      <td>22</td>\n",
       "      <td>30510.0</td>\n",
       "      <td>0</td>\n",
       "    </tr>\n",
       "    <tr>\n",
       "      <th>2</th>\n",
       "      <td>C5</td>\n",
       "      <td>3732</td>\n",
       "      <td>1</td>\n",
       "      <td>1</td>\n",
       "      <td>32</td>\n",
       "      <td>32</td>\n",
       "      <td>0</td>\n",
       "      <td>X0</td>\n",
       "      <td>1</td>\n",
       "      <td>1.0</td>\n",
       "      <td>19</td>\n",
       "      <td>7450.0</td>\n",
       "      <td>1</td>\n",
       "    </tr>\n",
       "    <tr>\n",
       "      <th>3</th>\n",
       "      <td>C24</td>\n",
       "      <td>4378</td>\n",
       "      <td>1</td>\n",
       "      <td>0</td>\n",
       "      <td>52</td>\n",
       "      <td>48</td>\n",
       "      <td>0</td>\n",
       "      <td>X1</td>\n",
       "      <td>15</td>\n",
       "      <td>3.0</td>\n",
       "      <td>19</td>\n",
       "      <td>17780.0</td>\n",
       "      <td>0</td>\n",
       "    </tr>\n",
       "    <tr>\n",
       "      <th>4</th>\n",
       "      <td>C8</td>\n",
       "      <td>2190</td>\n",
       "      <td>0</td>\n",
       "      <td>1</td>\n",
       "      <td>44</td>\n",
       "      <td>44</td>\n",
       "      <td>0</td>\n",
       "      <td>X2</td>\n",
       "      <td>3</td>\n",
       "      <td>1.0</td>\n",
       "      <td>16</td>\n",
       "      <td>10404.0</td>\n",
       "      <td>0</td>\n",
       "    </tr>\n",
       "  </tbody>\n",
       "</table>\n",
       "</div>"
      ],
      "text/plain": [
       "  City_Code  Region_Code  Accomodation_Type  Reco_Insurance_Type  Upper_Age  \\\n",
       "0        C3         3213                  0                    1         36   \n",
       "1        C5         1117                  1                    0         75   \n",
       "2        C5         3732                  1                    1         32   \n",
       "3       C24         4378                  1                    0         52   \n",
       "4        C8         2190                  0                    1         44   \n",
       "\n",
       "   Lower_Age  Is_Spouse Health Indicator  Holding_Policy_Duration  \\\n",
       "0         36          0               X1                       15   \n",
       "1         22          0               X2                        0   \n",
       "2         32          0               X0                        1   \n",
       "3         48          0               X1                       15   \n",
       "4         44          0               X2                        3   \n",
       "\n",
       "  Holding_Policy_Type  Reco_Policy_Cat  Reco_Policy_Premium  Response  \n",
       "0                 3.0               22              11628.0         0  \n",
       "1                   0               22              30510.0         0  \n",
       "2                 1.0               19               7450.0         1  \n",
       "3                 3.0               19              17780.0         0  \n",
       "4                 1.0               16              10404.0         0  "
      ]
     },
     "execution_count": 229,
     "metadata": {},
     "output_type": "execute_result"
    }
   ],
   "source": [
    "train.head()"
   ]
  },
  {
   "cell_type": "code",
   "execution_count": 230,
   "id": "5d3a25e3",
   "metadata": {
    "id": "5d3a25e3"
   },
   "outputs": [
    {
     "data": {
      "text/plain": [
       "array([0, 1], dtype=int64)"
      ]
     },
     "execution_count": 230,
     "metadata": {},
     "output_type": "execute_result"
    }
   ],
   "source": [
    "train['Is_Spouse'].unique()"
   ]
  },
  {
   "cell_type": "code",
   "execution_count": 231,
   "id": "bd98a0e8",
   "metadata": {
    "id": "bd98a0e8"
   },
   "outputs": [],
   "source": [
    "train.drop_duplicates(keep=\"first\", inplace=True)"
   ]
  },
  {
   "cell_type": "code",
   "execution_count": 232,
   "id": "62cb1265",
   "metadata": {
    "colab": {
     "base_uri": "https://localhost:8080/"
    },
    "id": "62cb1265",
    "outputId": "c808cfde-5f48-4bb1-d3d6-092df9c33cd6"
   },
   "outputs": [
    {
     "data": {
      "text/plain": [
       "(50882, 13)"
      ]
     },
     "execution_count": 232,
     "metadata": {},
     "output_type": "execute_result"
    }
   ],
   "source": [
    "train.shape"
   ]
  },
  {
   "cell_type": "markdown",
   "id": "0b9cb2ae",
   "metadata": {
    "id": "0b9cb2ae"
   },
   "source": [
    "### Holding_Policy_Type"
   ]
  },
  {
   "cell_type": "code",
   "execution_count": 233,
   "id": "ee9d7ddb",
   "metadata": {
    "id": "ee9d7ddb"
   },
   "outputs": [],
   "source": [
    "#There are only 4 categories(+ null values) of Holding POlicy Type\n",
    "#First filling the null values with 0\n",
    "\n",
    "train.Holding_Policy_Type.fillna(0, inplace = True)"
   ]
  },
  {
   "cell_type": "code",
   "execution_count": 234,
   "id": "4ce99c59",
   "metadata": {
    "colab": {
     "base_uri": "https://localhost:8080/"
    },
    "id": "4ce99c59",
    "outputId": "e3354040-77c3-45e8-f7f9-e8edab6121ee"
   },
   "outputs": [
    {
     "data": {
      "text/plain": [
       "array(['3.0', '0', '1.0', '4.0', '2.0'], dtype=object)"
      ]
     },
     "execution_count": 234,
     "metadata": {},
     "output_type": "execute_result"
    }
   ],
   "source": [
    "train.Holding_Policy_Type.unique()"
   ]
  },
  {
   "cell_type": "code",
   "execution_count": 235,
   "id": "79b0b647",
   "metadata": {
    "colab": {
     "base_uri": "https://localhost:8080/"
    },
    "id": "79b0b647",
    "outputId": "4684caef-a528-4475-87fc-7342a05ecd44"
   },
   "outputs": [
    {
     "data": {
      "text/plain": [
       "dtype('O')"
      ]
     },
     "execution_count": 235,
     "metadata": {},
     "output_type": "execute_result"
    }
   ],
   "source": [
    "train.Holding_Policy_Type.dtype"
   ]
  },
  {
   "cell_type": "code",
   "execution_count": 236,
   "id": "22df3a01",
   "metadata": {
    "colab": {
     "base_uri": "https://localhost:8080/"
    },
    "id": "22df3a01",
    "outputId": "77cbc041-341b-497b-fe1c-54061b9d39e6"
   },
   "outputs": [
    {
     "data": {
      "text/plain": [
       "dtype('O')"
      ]
     },
     "execution_count": 236,
     "metadata": {},
     "output_type": "execute_result"
    }
   ],
   "source": [
    "#Converting the numerical values into 5 categorical values\n",
    "train['Holding_Policy_Type'] = train.Holding_Policy_Type.astype(str)\n",
    "\n",
    "#Categorical Unique Values of the Holding Type\n",
    "train.Holding_Policy_Type.dtype"
   ]
  },
  {
   "cell_type": "markdown",
   "id": "7032fcaf",
   "metadata": {
    "id": "7032fcaf"
   },
   "source": [
    "### Holding_type_duration"
   ]
  },
  {
   "cell_type": "code",
   "execution_count": 237,
   "id": "2766e777",
   "metadata": {
    "id": "2766e777"
   },
   "outputs": [],
   "source": [
    "#The duration is categorical because of the value 14+\n",
    "#Replacing 14+ with 15 as it is the next higher number\n",
    "train.Holding_Policy_Duration.replace(to_replace='14+', value='15', inplace = True)\n",
    "\n",
    "#Fill the null values with 0\n",
    "train.Holding_Policy_Duration.fillna(0, inplace = True)\n",
    "\n",
    "#Duration should be numerical\n",
    "train['Holding_Policy_Duration'] = train.Holding_Policy_Duration.astype(float)"
   ]
  },
  {
   "cell_type": "code",
   "execution_count": 238,
   "id": "a0b768b7",
   "metadata": {
    "colab": {
     "base_uri": "https://localhost:8080/"
    },
    "id": "a0b768b7",
    "outputId": "d5b94b6d-025b-4dd0-98b0-28cead10160a"
   },
   "outputs": [
    {
     "name": "stdout",
     "output_type": "stream",
     "text": [
      "<class 'pandas.core.frame.DataFrame'>\n",
      "Int64Index: 50882 entries, 0 to 50881\n",
      "Data columns (total 13 columns):\n",
      " #   Column                   Non-Null Count  Dtype  \n",
      "---  ------                   --------------  -----  \n",
      " 0   City_Code                50882 non-null  object \n",
      " 1   Region_Code              50882 non-null  int64  \n",
      " 2   Accomodation_Type        50882 non-null  int32  \n",
      " 3   Reco_Insurance_Type      50882 non-null  int32  \n",
      " 4   Upper_Age                50882 non-null  int64  \n",
      " 5   Lower_Age                50882 non-null  int64  \n",
      " 6   Is_Spouse                50882 non-null  int64  \n",
      " 7   Health Indicator         50882 non-null  object \n",
      " 8   Holding_Policy_Duration  50882 non-null  float64\n",
      " 9   Holding_Policy_Type      50882 non-null  object \n",
      " 10  Reco_Policy_Cat          50882 non-null  int64  \n",
      " 11  Reco_Policy_Premium      50882 non-null  float64\n",
      " 12  Response                 50882 non-null  int64  \n",
      "dtypes: float64(2), int32(2), int64(6), object(3)\n",
      "memory usage: 5.0+ MB\n"
     ]
    }
   ],
   "source": [
    "train.info()"
   ]
  },
  {
   "cell_type": "code",
   "execution_count": 240,
   "id": "8367c3d0",
   "metadata": {},
   "outputs": [
    {
     "data": {
      "text/plain": [
       "array(['3.0', '0', '1.0', '4.0', '2.0'], dtype=object)"
      ]
     },
     "execution_count": 240,
     "metadata": {},
     "output_type": "execute_result"
    }
   ],
   "source": [
    "train.Holding_Policy_Type.unique()"
   ]
  },
  {
   "cell_type": "markdown",
   "id": "b37834a8",
   "metadata": {
    "id": "b37834a8"
   },
   "source": [
    "### Encoding"
   ]
  },
  {
   "cell_type": "code",
   "execution_count": 241,
   "id": "153b5586",
   "metadata": {
    "colab": {
     "base_uri": "https://localhost:8080/",
     "height": 461
    },
    "id": "153b5586",
    "outputId": "899243a1-5107-4bea-e3bf-bc2fb574d128"
   },
   "outputs": [],
   "source": [
    "#encoding Holding_Policy_Type\n",
    "\n",
    "hold_dummies = pd.get_dummies(train.Holding_Policy_Type)\n",
    "#merging the dummies with the dataframe\n",
    "train = pd.concat([train,hold_dummies], axis = 'columns')\n",
    "#dropping Holding_Policy_Type column and a dummy variable to avoid the dummy variable trap\n",
    "train.drop(['Holding_Policy_Type','0'], axis = 'columns', inplace = True)\n"
   ]
  },
  {
   "cell_type": "markdown",
   "id": "f1fba3b1",
   "metadata": {
    "id": "f1fba3b1"
   },
   "source": [
    "#### Health Indicator\n"
   ]
  },
  {
   "cell_type": "code",
   "execution_count": 243,
   "id": "a24bc257",
   "metadata": {},
   "outputs": [
    {
     "data": {
      "text/plain": [
       "array(['X1', 'X2', 'X0', 'X4', 'X3', 'X6', 'X5', 'X8', 'X7', 'X9'],\n",
       "      dtype=object)"
      ]
     },
     "execution_count": 243,
     "metadata": {},
     "output_type": "execute_result"
    }
   ],
   "source": [
    "train['Health Indicator'].unique()"
   ]
  },
  {
   "cell_type": "code",
   "execution_count": 244,
   "id": "b39e5eb4",
   "metadata": {
    "colab": {
     "base_uri": "https://localhost:8080/",
     "height": 443
    },
    "id": "b39e5eb4",
    "outputId": "9827ba05-d4fd-4674-a37d-7240da50a365"
   },
   "outputs": [],
   "source": [
    "#encoding Health Indicator\n",
    "\n",
    "health_dummies = pd.get_dummies(train['Health Indicator'])\n",
    "#merging the dummies with the dataframe\n",
    "train = pd.concat([train,health_dummies], axis = 'columns')\n",
    "#dropping Health Indicator column and a dummy variable to avoid the dummy variable trap\n",
    "train.drop(['Health Indicator','X0'], axis = 'columns', inplace = True)\n"
   ]
  },
  {
   "cell_type": "markdown",
   "id": "9720a784",
   "metadata": {
    "id": "9720a784"
   },
   "source": [
    "#### City_Code"
   ]
  },
  {
   "cell_type": "code",
   "execution_count": 245,
   "id": "713e6120",
   "metadata": {
    "colab": {
     "base_uri": "https://localhost:8080/",
     "height": 443
    },
    "id": "713e6120",
    "outputId": "4c5edd3b-a285-4e59-cdd2-a9585a60c8d8"
   },
   "outputs": [],
   "source": [
    "#encoding City_Code\n",
    "\n",
    "city_dummies = pd.get_dummies(train['City_Code'])\n",
    "#merging the dummies with the dataframe\n",
    "train = pd.concat([train,city_dummies], axis = 'columns')\n",
    "#dropping City_Code column and a dummy variable to avoid the dummy variable trap\n",
    "train.drop(['City_Code','C31'], axis = 'columns', inplace = True)\n"
   ]
  },
  {
   "cell_type": "markdown",
   "id": "fe98a76c",
   "metadata": {
    "id": "fe98a76c"
   },
   "source": [
    "### Scaling"
   ]
  },
  {
   "cell_type": "code",
   "execution_count": 246,
   "id": "236a416a",
   "metadata": {
    "id": "236a416a"
   },
   "outputs": [],
   "source": [
    "from sklearn.preprocessing import StandardScaler\n",
    "from sklearn.preprocessing import MinMaxScaler\n",
    "\n",
    "#Apply Standardscaler for Reco_Policy_Premium\n",
    "ss = StandardScaler()\n",
    "train['Reco_Policy_Premium']= ss.fit_transform(train[['Reco_Policy_Premium']])"
   ]
  },
  {
   "cell_type": "code",
   "execution_count": 247,
   "id": "8fff39eb",
   "metadata": {
    "colab": {
     "base_uri": "https://localhost:8080/",
     "height": 349
    },
    "id": "8fff39eb",
    "outputId": "07b87942-c173-4cec-fcb7-e115630d4981"
   },
   "outputs": [
    {
     "data": {
      "text/html": [
       "<div>\n",
       "<style scoped>\n",
       "    .dataframe tbody tr th:only-of-type {\n",
       "        vertical-align: middle;\n",
       "    }\n",
       "\n",
       "    .dataframe tbody tr th {\n",
       "        vertical-align: top;\n",
       "    }\n",
       "\n",
       "    .dataframe thead th {\n",
       "        text-align: right;\n",
       "    }\n",
       "</style>\n",
       "<table border=\"1\" class=\"dataframe\">\n",
       "  <thead>\n",
       "    <tr style=\"text-align: right;\">\n",
       "      <th></th>\n",
       "      <th>Region_Code</th>\n",
       "      <th>Accomodation_Type</th>\n",
       "      <th>Reco_Insurance_Type</th>\n",
       "      <th>Upper_Age</th>\n",
       "      <th>Lower_Age</th>\n",
       "      <th>Is_Spouse</th>\n",
       "      <th>Holding_Policy_Duration</th>\n",
       "      <th>Reco_Policy_Cat</th>\n",
       "      <th>Reco_Policy_Premium</th>\n",
       "      <th>Response</th>\n",
       "      <th>...</th>\n",
       "      <th>C33</th>\n",
       "      <th>C34</th>\n",
       "      <th>C35</th>\n",
       "      <th>C36</th>\n",
       "      <th>C4</th>\n",
       "      <th>C5</th>\n",
       "      <th>C6</th>\n",
       "      <th>C7</th>\n",
       "      <th>C8</th>\n",
       "      <th>C9</th>\n",
       "    </tr>\n",
       "  </thead>\n",
       "  <tbody>\n",
       "    <tr>\n",
       "      <th>count</th>\n",
       "      <td>50882.000000</td>\n",
       "      <td>50882.000000</td>\n",
       "      <td>50882.000000</td>\n",
       "      <td>50882.000000</td>\n",
       "      <td>50882.000000</td>\n",
       "      <td>50882.000000</td>\n",
       "      <td>50882.000000</td>\n",
       "      <td>50882.000000</td>\n",
       "      <td>5.088200e+04</td>\n",
       "      <td>50882.000000</td>\n",
       "      <td>...</td>\n",
       "      <td>50882.000000</td>\n",
       "      <td>50882.000000</td>\n",
       "      <td>50882.000000</td>\n",
       "      <td>50882.000000</td>\n",
       "      <td>50882.000000</td>\n",
       "      <td>50882.000000</td>\n",
       "      <td>50882.000000</td>\n",
       "      <td>50882.000000</td>\n",
       "      <td>50882.000000</td>\n",
       "      <td>50882.000000</td>\n",
       "    </tr>\n",
       "    <tr>\n",
       "      <th>mean</th>\n",
       "      <td>1732.788707</td>\n",
       "      <td>0.549330</td>\n",
       "      <td>0.796667</td>\n",
       "      <td>44.856275</td>\n",
       "      <td>42.738866</td>\n",
       "      <td>0.165520</td>\n",
       "      <td>3.706379</td>\n",
       "      <td>15.115188</td>\n",
       "      <td>-2.002087e-16</td>\n",
       "      <td>0.239947</td>\n",
       "      <td>...</td>\n",
       "      <td>0.005621</td>\n",
       "      <td>0.002555</td>\n",
       "      <td>0.001101</td>\n",
       "      <td>0.000708</td>\n",
       "      <td>0.072147</td>\n",
       "      <td>0.026807</td>\n",
       "      <td>0.038324</td>\n",
       "      <td>0.037538</td>\n",
       "      <td>0.035494</td>\n",
       "      <td>0.042942</td>\n",
       "    </tr>\n",
       "    <tr>\n",
       "      <th>std</th>\n",
       "      <td>1424.081652</td>\n",
       "      <td>0.497566</td>\n",
       "      <td>0.402482</td>\n",
       "      <td>17.310271</td>\n",
       "      <td>17.319375</td>\n",
       "      <td>0.371653</td>\n",
       "      <td>4.766053</td>\n",
       "      <td>6.340663</td>\n",
       "      <td>1.000010e+00</td>\n",
       "      <td>0.427055</td>\n",
       "      <td>...</td>\n",
       "      <td>0.074762</td>\n",
       "      <td>0.050482</td>\n",
       "      <td>0.033157</td>\n",
       "      <td>0.026590</td>\n",
       "      <td>0.258734</td>\n",
       "      <td>0.161521</td>\n",
       "      <td>0.191979</td>\n",
       "      <td>0.190077</td>\n",
       "      <td>0.185026</td>\n",
       "      <td>0.202729</td>\n",
       "    </tr>\n",
       "    <tr>\n",
       "      <th>min</th>\n",
       "      <td>1.000000</td>\n",
       "      <td>0.000000</td>\n",
       "      <td>0.000000</td>\n",
       "      <td>18.000000</td>\n",
       "      <td>16.000000</td>\n",
       "      <td>0.000000</td>\n",
       "      <td>0.000000</td>\n",
       "      <td>1.000000</td>\n",
       "      <td>-1.806363e+00</td>\n",
       "      <td>0.000000</td>\n",
       "      <td>...</td>\n",
       "      <td>0.000000</td>\n",
       "      <td>0.000000</td>\n",
       "      <td>0.000000</td>\n",
       "      <td>0.000000</td>\n",
       "      <td>0.000000</td>\n",
       "      <td>0.000000</td>\n",
       "      <td>0.000000</td>\n",
       "      <td>0.000000</td>\n",
       "      <td>0.000000</td>\n",
       "      <td>0.000000</td>\n",
       "    </tr>\n",
       "    <tr>\n",
       "      <th>25%</th>\n",
       "      <td>523.000000</td>\n",
       "      <td>0.000000</td>\n",
       "      <td>1.000000</td>\n",
       "      <td>28.000000</td>\n",
       "      <td>27.000000</td>\n",
       "      <td>0.000000</td>\n",
       "      <td>0.000000</td>\n",
       "      <td>12.000000</td>\n",
       "      <td>-7.490049e-01</td>\n",
       "      <td>0.000000</td>\n",
       "      <td>...</td>\n",
       "      <td>0.000000</td>\n",
       "      <td>0.000000</td>\n",
       "      <td>0.000000</td>\n",
       "      <td>0.000000</td>\n",
       "      <td>0.000000</td>\n",
       "      <td>0.000000</td>\n",
       "      <td>0.000000</td>\n",
       "      <td>0.000000</td>\n",
       "      <td>0.000000</td>\n",
       "      <td>0.000000</td>\n",
       "    </tr>\n",
       "    <tr>\n",
       "      <th>50%</th>\n",
       "      <td>1391.000000</td>\n",
       "      <td>1.000000</td>\n",
       "      <td>1.000000</td>\n",
       "      <td>44.000000</td>\n",
       "      <td>40.000000</td>\n",
       "      <td>0.000000</td>\n",
       "      <td>2.000000</td>\n",
       "      <td>17.000000</td>\n",
       "      <td>-1.526477e-01</td>\n",
       "      <td>0.000000</td>\n",
       "      <td>...</td>\n",
       "      <td>0.000000</td>\n",
       "      <td>0.000000</td>\n",
       "      <td>0.000000</td>\n",
       "      <td>0.000000</td>\n",
       "      <td>0.000000</td>\n",
       "      <td>0.000000</td>\n",
       "      <td>0.000000</td>\n",
       "      <td>0.000000</td>\n",
       "      <td>0.000000</td>\n",
       "      <td>0.000000</td>\n",
       "    </tr>\n",
       "    <tr>\n",
       "      <th>75%</th>\n",
       "      <td>2667.000000</td>\n",
       "      <td>1.000000</td>\n",
       "      <td>1.000000</td>\n",
       "      <td>59.000000</td>\n",
       "      <td>57.000000</td>\n",
       "      <td>0.000000</td>\n",
       "      <td>6.000000</td>\n",
       "      <td>20.000000</td>\n",
       "      <td>5.936334e-01</td>\n",
       "      <td>0.000000</td>\n",
       "      <td>...</td>\n",
       "      <td>0.000000</td>\n",
       "      <td>0.000000</td>\n",
       "      <td>0.000000</td>\n",
       "      <td>0.000000</td>\n",
       "      <td>0.000000</td>\n",
       "      <td>0.000000</td>\n",
       "      <td>0.000000</td>\n",
       "      <td>0.000000</td>\n",
       "      <td>0.000000</td>\n",
       "      <td>0.000000</td>\n",
       "    </tr>\n",
       "    <tr>\n",
       "      <th>max</th>\n",
       "      <td>6194.000000</td>\n",
       "      <td>1.000000</td>\n",
       "      <td>1.000000</td>\n",
       "      <td>75.000000</td>\n",
       "      <td>75.000000</td>\n",
       "      <td>1.000000</td>\n",
       "      <td>15.000000</td>\n",
       "      <td>22.000000</td>\n",
       "      <td>4.425858e+00</td>\n",
       "      <td>1.000000</td>\n",
       "      <td>...</td>\n",
       "      <td>1.000000</td>\n",
       "      <td>1.000000</td>\n",
       "      <td>1.000000</td>\n",
       "      <td>1.000000</td>\n",
       "      <td>1.000000</td>\n",
       "      <td>1.000000</td>\n",
       "      <td>1.000000</td>\n",
       "      <td>1.000000</td>\n",
       "      <td>1.000000</td>\n",
       "      <td>1.000000</td>\n",
       "    </tr>\n",
       "  </tbody>\n",
       "</table>\n",
       "<p>8 rows × 58 columns</p>\n",
       "</div>"
      ],
      "text/plain": [
       "        Region_Code  Accomodation_Type  Reco_Insurance_Type     Upper_Age  \\\n",
       "count  50882.000000       50882.000000         50882.000000  50882.000000   \n",
       "mean    1732.788707           0.549330             0.796667     44.856275   \n",
       "std     1424.081652           0.497566             0.402482     17.310271   \n",
       "min        1.000000           0.000000             0.000000     18.000000   \n",
       "25%      523.000000           0.000000             1.000000     28.000000   \n",
       "50%     1391.000000           1.000000             1.000000     44.000000   \n",
       "75%     2667.000000           1.000000             1.000000     59.000000   \n",
       "max     6194.000000           1.000000             1.000000     75.000000   \n",
       "\n",
       "          Lower_Age     Is_Spouse  Holding_Policy_Duration  Reco_Policy_Cat  \\\n",
       "count  50882.000000  50882.000000             50882.000000     50882.000000   \n",
       "mean      42.738866      0.165520                 3.706379        15.115188   \n",
       "std       17.319375      0.371653                 4.766053         6.340663   \n",
       "min       16.000000      0.000000                 0.000000         1.000000   \n",
       "25%       27.000000      0.000000                 0.000000        12.000000   \n",
       "50%       40.000000      0.000000                 2.000000        17.000000   \n",
       "75%       57.000000      0.000000                 6.000000        20.000000   \n",
       "max       75.000000      1.000000                15.000000        22.000000   \n",
       "\n",
       "       Reco_Policy_Premium      Response  ...           C33           C34  \\\n",
       "count         5.088200e+04  50882.000000  ...  50882.000000  50882.000000   \n",
       "mean         -2.002087e-16      0.239947  ...      0.005621      0.002555   \n",
       "std           1.000010e+00      0.427055  ...      0.074762      0.050482   \n",
       "min          -1.806363e+00      0.000000  ...      0.000000      0.000000   \n",
       "25%          -7.490049e-01      0.000000  ...      0.000000      0.000000   \n",
       "50%          -1.526477e-01      0.000000  ...      0.000000      0.000000   \n",
       "75%           5.936334e-01      0.000000  ...      0.000000      0.000000   \n",
       "max           4.425858e+00      1.000000  ...      1.000000      1.000000   \n",
       "\n",
       "                C35           C36            C4            C5            C6  \\\n",
       "count  50882.000000  50882.000000  50882.000000  50882.000000  50882.000000   \n",
       "mean       0.001101      0.000708      0.072147      0.026807      0.038324   \n",
       "std        0.033157      0.026590      0.258734      0.161521      0.191979   \n",
       "min        0.000000      0.000000      0.000000      0.000000      0.000000   \n",
       "25%        0.000000      0.000000      0.000000      0.000000      0.000000   \n",
       "50%        0.000000      0.000000      0.000000      0.000000      0.000000   \n",
       "75%        0.000000      0.000000      0.000000      0.000000      0.000000   \n",
       "max        1.000000      1.000000      1.000000      1.000000      1.000000   \n",
       "\n",
       "                 C7            C8            C9  \n",
       "count  50882.000000  50882.000000  50882.000000  \n",
       "mean       0.037538      0.035494      0.042942  \n",
       "std        0.190077      0.185026      0.202729  \n",
       "min        0.000000      0.000000      0.000000  \n",
       "25%        0.000000      0.000000      0.000000  \n",
       "50%        0.000000      0.000000      0.000000  \n",
       "75%        0.000000      0.000000      0.000000  \n",
       "max        1.000000      1.000000      1.000000  \n",
       "\n",
       "[8 rows x 58 columns]"
      ]
     },
     "execution_count": 247,
     "metadata": {},
     "output_type": "execute_result"
    }
   ],
   "source": [
    "train.describe()"
   ]
  },
  {
   "cell_type": "code",
   "execution_count": 248,
   "id": "7e1a7b6d",
   "metadata": {
    "id": "7e1a7b6d"
   },
   "outputs": [],
   "source": [
    "#Apply Standardscaler for Reco_Policy_Premium\n",
    "ss = StandardScaler()\n",
    "train['Region_Code']= ss.fit_transform(train[['Region_Code']])"
   ]
  },
  {
   "cell_type": "code",
   "execution_count": 249,
   "id": "51c41821",
   "metadata": {},
   "outputs": [],
   "source": [
    "train['Upper_Age']= ss.fit_transform(train[['Upper_Age']])\n",
    "train['Lower_Age']= ss.fit_transform(train[['Lower_Age']])"
   ]
  },
  {
   "cell_type": "code",
   "execution_count": 250,
   "id": "f8ec3f79",
   "metadata": {},
   "outputs": [],
   "source": [
    "train['Reco_Policy_Cat']= ss.fit_transform(train[['Reco_Policy_Cat']])"
   ]
  },
  {
   "cell_type": "code",
   "execution_count": 251,
   "id": "9231d10a",
   "metadata": {},
   "outputs": [
    {
     "data": {
      "text/html": [
       "<div>\n",
       "<style scoped>\n",
       "    .dataframe tbody tr th:only-of-type {\n",
       "        vertical-align: middle;\n",
       "    }\n",
       "\n",
       "    .dataframe tbody tr th {\n",
       "        vertical-align: top;\n",
       "    }\n",
       "\n",
       "    .dataframe thead th {\n",
       "        text-align: right;\n",
       "    }\n",
       "</style>\n",
       "<table border=\"1\" class=\"dataframe\">\n",
       "  <thead>\n",
       "    <tr style=\"text-align: right;\">\n",
       "      <th></th>\n",
       "      <th>Region_Code</th>\n",
       "      <th>Accomodation_Type</th>\n",
       "      <th>Reco_Insurance_Type</th>\n",
       "      <th>Upper_Age</th>\n",
       "      <th>Lower_Age</th>\n",
       "      <th>Is_Spouse</th>\n",
       "      <th>Holding_Policy_Duration</th>\n",
       "      <th>Reco_Policy_Cat</th>\n",
       "      <th>Reco_Policy_Premium</th>\n",
       "      <th>Response</th>\n",
       "      <th>...</th>\n",
       "      <th>C33</th>\n",
       "      <th>C34</th>\n",
       "      <th>C35</th>\n",
       "      <th>C36</th>\n",
       "      <th>C4</th>\n",
       "      <th>C5</th>\n",
       "      <th>C6</th>\n",
       "      <th>C7</th>\n",
       "      <th>C8</th>\n",
       "      <th>C9</th>\n",
       "    </tr>\n",
       "  </thead>\n",
       "  <tbody>\n",
       "    <tr>\n",
       "      <th>count</th>\n",
       "      <td>5.088200e+04</td>\n",
       "      <td>50882.000000</td>\n",
       "      <td>50882.000000</td>\n",
       "      <td>5.088200e+04</td>\n",
       "      <td>5.088200e+04</td>\n",
       "      <td>50882.000000</td>\n",
       "      <td>50882.000000</td>\n",
       "      <td>5.088200e+04</td>\n",
       "      <td>5.088200e+04</td>\n",
       "      <td>50882.000000</td>\n",
       "      <td>...</td>\n",
       "      <td>50882.000000</td>\n",
       "      <td>50882.000000</td>\n",
       "      <td>50882.000000</td>\n",
       "      <td>50882.000000</td>\n",
       "      <td>50882.000000</td>\n",
       "      <td>50882.000000</td>\n",
       "      <td>50882.000000</td>\n",
       "      <td>50882.000000</td>\n",
       "      <td>50882.000000</td>\n",
       "      <td>50882.000000</td>\n",
       "    </tr>\n",
       "    <tr>\n",
       "      <th>mean</th>\n",
       "      <td>4.473010e-17</td>\n",
       "      <td>0.549330</td>\n",
       "      <td>0.796667</td>\n",
       "      <td>5.268334e-16</td>\n",
       "      <td>9.800911e-17</td>\n",
       "      <td>0.165520</td>\n",
       "      <td>3.706379</td>\n",
       "      <td>-6.770283e-17</td>\n",
       "      <td>-2.002087e-16</td>\n",
       "      <td>0.239947</td>\n",
       "      <td>...</td>\n",
       "      <td>0.005621</td>\n",
       "      <td>0.002555</td>\n",
       "      <td>0.001101</td>\n",
       "      <td>0.000708</td>\n",
       "      <td>0.072147</td>\n",
       "      <td>0.026807</td>\n",
       "      <td>0.038324</td>\n",
       "      <td>0.037538</td>\n",
       "      <td>0.035494</td>\n",
       "      <td>0.042942</td>\n",
       "    </tr>\n",
       "    <tr>\n",
       "      <th>std</th>\n",
       "      <td>1.000010e+00</td>\n",
       "      <td>0.497566</td>\n",
       "      <td>0.402482</td>\n",
       "      <td>1.000010e+00</td>\n",
       "      <td>1.000010e+00</td>\n",
       "      <td>0.371653</td>\n",
       "      <td>4.766053</td>\n",
       "      <td>1.000010e+00</td>\n",
       "      <td>1.000010e+00</td>\n",
       "      <td>0.427055</td>\n",
       "      <td>...</td>\n",
       "      <td>0.074762</td>\n",
       "      <td>0.050482</td>\n",
       "      <td>0.033157</td>\n",
       "      <td>0.026590</td>\n",
       "      <td>0.258734</td>\n",
       "      <td>0.161521</td>\n",
       "      <td>0.191979</td>\n",
       "      <td>0.190077</td>\n",
       "      <td>0.185026</td>\n",
       "      <td>0.202729</td>\n",
       "    </tr>\n",
       "    <tr>\n",
       "      <th>min</th>\n",
       "      <td>-1.216086e+00</td>\n",
       "      <td>0.000000</td>\n",
       "      <td>0.000000</td>\n",
       "      <td>-1.551480e+00</td>\n",
       "      <td>-1.543885e+00</td>\n",
       "      <td>0.000000</td>\n",
       "      <td>0.000000</td>\n",
       "      <td>-2.226160e+00</td>\n",
       "      <td>-1.806363e+00</td>\n",
       "      <td>0.000000</td>\n",
       "      <td>...</td>\n",
       "      <td>0.000000</td>\n",
       "      <td>0.000000</td>\n",
       "      <td>0.000000</td>\n",
       "      <td>0.000000</td>\n",
       "      <td>0.000000</td>\n",
       "      <td>0.000000</td>\n",
       "      <td>0.000000</td>\n",
       "      <td>0.000000</td>\n",
       "      <td>0.000000</td>\n",
       "      <td>0.000000</td>\n",
       "    </tr>\n",
       "    <tr>\n",
       "      <th>25%</th>\n",
       "      <td>-8.495304e-01</td>\n",
       "      <td>0.000000</td>\n",
       "      <td>1.000000</td>\n",
       "      <td>-9.737826e-01</td>\n",
       "      <td>-9.087522e-01</td>\n",
       "      <td>0.000000</td>\n",
       "      <td>0.000000</td>\n",
       "      <td>-4.913081e-01</td>\n",
       "      <td>-7.490049e-01</td>\n",
       "      <td>0.000000</td>\n",
       "      <td>...</td>\n",
       "      <td>0.000000</td>\n",
       "      <td>0.000000</td>\n",
       "      <td>0.000000</td>\n",
       "      <td>0.000000</td>\n",
       "      <td>0.000000</td>\n",
       "      <td>0.000000</td>\n",
       "      <td>0.000000</td>\n",
       "      <td>0.000000</td>\n",
       "      <td>0.000000</td>\n",
       "      <td>0.000000</td>\n",
       "    </tr>\n",
       "    <tr>\n",
       "      <th>50%</th>\n",
       "      <td>-2.400088e-01</td>\n",
       "      <td>1.000000</td>\n",
       "      <td>1.000000</td>\n",
       "      <td>-4.946680e-02</td>\n",
       "      <td>-1.581404e-01</td>\n",
       "      <td>0.000000</td>\n",
       "      <td>2.000000</td>\n",
       "      <td>2.972608e-01</td>\n",
       "      <td>-1.526477e-01</td>\n",
       "      <td>0.000000</td>\n",
       "      <td>...</td>\n",
       "      <td>0.000000</td>\n",
       "      <td>0.000000</td>\n",
       "      <td>0.000000</td>\n",
       "      <td>0.000000</td>\n",
       "      <td>0.000000</td>\n",
       "      <td>0.000000</td>\n",
       "      <td>0.000000</td>\n",
       "      <td>0.000000</td>\n",
       "      <td>0.000000</td>\n",
       "      <td>0.000000</td>\n",
       "    </tr>\n",
       "    <tr>\n",
       "      <th>75%</th>\n",
       "      <td>6.560161e-01</td>\n",
       "      <td>1.000000</td>\n",
       "      <td>1.000000</td>\n",
       "      <td>8.170793e-01</td>\n",
       "      <td>8.234289e-01</td>\n",
       "      <td>0.000000</td>\n",
       "      <td>6.000000</td>\n",
       "      <td>7.704021e-01</td>\n",
       "      <td>5.936334e-01</td>\n",
       "      <td>0.000000</td>\n",
       "      <td>...</td>\n",
       "      <td>0.000000</td>\n",
       "      <td>0.000000</td>\n",
       "      <td>0.000000</td>\n",
       "      <td>0.000000</td>\n",
       "      <td>0.000000</td>\n",
       "      <td>0.000000</td>\n",
       "      <td>0.000000</td>\n",
       "      <td>0.000000</td>\n",
       "      <td>0.000000</td>\n",
       "      <td>0.000000</td>\n",
       "    </tr>\n",
       "    <tr>\n",
       "      <th>max</th>\n",
       "      <td>3.132724e+00</td>\n",
       "      <td>1.000000</td>\n",
       "      <td>1.000000</td>\n",
       "      <td>1.741395e+00</td>\n",
       "      <td>1.862738e+00</td>\n",
       "      <td>1.000000</td>\n",
       "      <td>15.000000</td>\n",
       "      <td>1.085830e+00</td>\n",
       "      <td>4.425858e+00</td>\n",
       "      <td>1.000000</td>\n",
       "      <td>...</td>\n",
       "      <td>1.000000</td>\n",
       "      <td>1.000000</td>\n",
       "      <td>1.000000</td>\n",
       "      <td>1.000000</td>\n",
       "      <td>1.000000</td>\n",
       "      <td>1.000000</td>\n",
       "      <td>1.000000</td>\n",
       "      <td>1.000000</td>\n",
       "      <td>1.000000</td>\n",
       "      <td>1.000000</td>\n",
       "    </tr>\n",
       "  </tbody>\n",
       "</table>\n",
       "<p>8 rows × 58 columns</p>\n",
       "</div>"
      ],
      "text/plain": [
       "        Region_Code  Accomodation_Type  Reco_Insurance_Type     Upper_Age  \\\n",
       "count  5.088200e+04       50882.000000         50882.000000  5.088200e+04   \n",
       "mean   4.473010e-17           0.549330             0.796667  5.268334e-16   \n",
       "std    1.000010e+00           0.497566             0.402482  1.000010e+00   \n",
       "min   -1.216086e+00           0.000000             0.000000 -1.551480e+00   \n",
       "25%   -8.495304e-01           0.000000             1.000000 -9.737826e-01   \n",
       "50%   -2.400088e-01           1.000000             1.000000 -4.946680e-02   \n",
       "75%    6.560161e-01           1.000000             1.000000  8.170793e-01   \n",
       "max    3.132724e+00           1.000000             1.000000  1.741395e+00   \n",
       "\n",
       "          Lower_Age     Is_Spouse  Holding_Policy_Duration  Reco_Policy_Cat  \\\n",
       "count  5.088200e+04  50882.000000             50882.000000     5.088200e+04   \n",
       "mean   9.800911e-17      0.165520                 3.706379    -6.770283e-17   \n",
       "std    1.000010e+00      0.371653                 4.766053     1.000010e+00   \n",
       "min   -1.543885e+00      0.000000                 0.000000    -2.226160e+00   \n",
       "25%   -9.087522e-01      0.000000                 0.000000    -4.913081e-01   \n",
       "50%   -1.581404e-01      0.000000                 2.000000     2.972608e-01   \n",
       "75%    8.234289e-01      0.000000                 6.000000     7.704021e-01   \n",
       "max    1.862738e+00      1.000000                15.000000     1.085830e+00   \n",
       "\n",
       "       Reco_Policy_Premium      Response  ...           C33           C34  \\\n",
       "count         5.088200e+04  50882.000000  ...  50882.000000  50882.000000   \n",
       "mean         -2.002087e-16      0.239947  ...      0.005621      0.002555   \n",
       "std           1.000010e+00      0.427055  ...      0.074762      0.050482   \n",
       "min          -1.806363e+00      0.000000  ...      0.000000      0.000000   \n",
       "25%          -7.490049e-01      0.000000  ...      0.000000      0.000000   \n",
       "50%          -1.526477e-01      0.000000  ...      0.000000      0.000000   \n",
       "75%           5.936334e-01      0.000000  ...      0.000000      0.000000   \n",
       "max           4.425858e+00      1.000000  ...      1.000000      1.000000   \n",
       "\n",
       "                C35           C36            C4            C5            C6  \\\n",
       "count  50882.000000  50882.000000  50882.000000  50882.000000  50882.000000   \n",
       "mean       0.001101      0.000708      0.072147      0.026807      0.038324   \n",
       "std        0.033157      0.026590      0.258734      0.161521      0.191979   \n",
       "min        0.000000      0.000000      0.000000      0.000000      0.000000   \n",
       "25%        0.000000      0.000000      0.000000      0.000000      0.000000   \n",
       "50%        0.000000      0.000000      0.000000      0.000000      0.000000   \n",
       "75%        0.000000      0.000000      0.000000      0.000000      0.000000   \n",
       "max        1.000000      1.000000      1.000000      1.000000      1.000000   \n",
       "\n",
       "                 C7            C8            C9  \n",
       "count  50882.000000  50882.000000  50882.000000  \n",
       "mean       0.037538      0.035494      0.042942  \n",
       "std        0.190077      0.185026      0.202729  \n",
       "min        0.000000      0.000000      0.000000  \n",
       "25%        0.000000      0.000000      0.000000  \n",
       "50%        0.000000      0.000000      0.000000  \n",
       "75%        0.000000      0.000000      0.000000  \n",
       "max        1.000000      1.000000      1.000000  \n",
       "\n",
       "[8 rows x 58 columns]"
      ]
     },
     "execution_count": 251,
     "metadata": {},
     "output_type": "execute_result"
    }
   ],
   "source": [
    "train.describe()"
   ]
  },
  {
   "cell_type": "markdown",
   "id": "3e67641e",
   "metadata": {},
   "source": [
    "### Feature Selection"
   ]
  },
  {
   "cell_type": "code",
   "execution_count": 252,
   "id": "751f4d02",
   "metadata": {
    "id": "751f4d02"
   },
   "outputs": [
    {
     "data": {
      "text/html": [
       "<div>\n",
       "<style scoped>\n",
       "    .dataframe tbody tr th:only-of-type {\n",
       "        vertical-align: middle;\n",
       "    }\n",
       "\n",
       "    .dataframe tbody tr th {\n",
       "        vertical-align: top;\n",
       "    }\n",
       "\n",
       "    .dataframe thead th {\n",
       "        text-align: right;\n",
       "    }\n",
       "</style>\n",
       "<table border=\"1\" class=\"dataframe\">\n",
       "  <thead>\n",
       "    <tr style=\"text-align: right;\">\n",
       "      <th></th>\n",
       "      <th>Region_Code</th>\n",
       "      <th>Accomodation_Type</th>\n",
       "      <th>Reco_Insurance_Type</th>\n",
       "      <th>Upper_Age</th>\n",
       "      <th>Lower_Age</th>\n",
       "      <th>Is_Spouse</th>\n",
       "      <th>Holding_Policy_Duration</th>\n",
       "      <th>Reco_Policy_Cat</th>\n",
       "      <th>Reco_Policy_Premium</th>\n",
       "      <th>Response</th>\n",
       "      <th>...</th>\n",
       "      <th>C33</th>\n",
       "      <th>C34</th>\n",
       "      <th>C35</th>\n",
       "      <th>C36</th>\n",
       "      <th>C4</th>\n",
       "      <th>C5</th>\n",
       "      <th>C6</th>\n",
       "      <th>C7</th>\n",
       "      <th>C8</th>\n",
       "      <th>C9</th>\n",
       "    </tr>\n",
       "  </thead>\n",
       "  <tbody>\n",
       "    <tr>\n",
       "      <th>Region_Code</th>\n",
       "      <td>1.000000</td>\n",
       "      <td>0.009105</td>\n",
       "      <td>0.004275</td>\n",
       "      <td>0.005649</td>\n",
       "      <td>0.005928</td>\n",
       "      <td>0.002567</td>\n",
       "      <td>0.013193</td>\n",
       "      <td>0.065120</td>\n",
       "      <td>0.010797</td>\n",
       "      <td>0.001121</td>\n",
       "      <td>...</td>\n",
       "      <td>0.028027</td>\n",
       "      <td>0.043330</td>\n",
       "      <td>0.036216</td>\n",
       "      <td>0.016993</td>\n",
       "      <td>0.027106</td>\n",
       "      <td>0.016769</td>\n",
       "      <td>0.037726</td>\n",
       "      <td>0.027700</td>\n",
       "      <td>0.082094</td>\n",
       "      <td>0.015979</td>\n",
       "    </tr>\n",
       "    <tr>\n",
       "      <th>Accomodation_Type</th>\n",
       "      <td>0.009105</td>\n",
       "      <td>1.000000</td>\n",
       "      <td>0.196833</td>\n",
       "      <td>0.419129</td>\n",
       "      <td>0.369400</td>\n",
       "      <td>0.191045</td>\n",
       "      <td>0.224995</td>\n",
       "      <td>0.022055</td>\n",
       "      <td>0.350514</td>\n",
       "      <td>0.005201</td>\n",
       "      <td>...</td>\n",
       "      <td>0.023833</td>\n",
       "      <td>0.018319</td>\n",
       "      <td>0.000908</td>\n",
       "      <td>0.003304</td>\n",
       "      <td>0.012761</td>\n",
       "      <td>0.052159</td>\n",
       "      <td>0.033577</td>\n",
       "      <td>0.061050</td>\n",
       "      <td>0.032255</td>\n",
       "      <td>0.022657</td>\n",
       "    </tr>\n",
       "    <tr>\n",
       "      <th>Reco_Insurance_Type</th>\n",
       "      <td>0.004275</td>\n",
       "      <td>0.196833</td>\n",
       "      <td>1.000000</td>\n",
       "      <td>0.227119</td>\n",
       "      <td>0.014998</td>\n",
       "      <td>0.881560</td>\n",
       "      <td>0.105313</td>\n",
       "      <td>0.020826</td>\n",
       "      <td>0.596160</td>\n",
       "      <td>0.009891</td>\n",
       "      <td>...</td>\n",
       "      <td>0.000100</td>\n",
       "      <td>0.001386</td>\n",
       "      <td>0.006460</td>\n",
       "      <td>0.001249</td>\n",
       "      <td>0.045944</td>\n",
       "      <td>0.017942</td>\n",
       "      <td>0.026326</td>\n",
       "      <td>0.041010</td>\n",
       "      <td>0.001114</td>\n",
       "      <td>0.023432</td>\n",
       "    </tr>\n",
       "    <tr>\n",
       "      <th>Upper_Age</th>\n",
       "      <td>0.005649</td>\n",
       "      <td>0.419129</td>\n",
       "      <td>0.227119</td>\n",
       "      <td>1.000000</td>\n",
       "      <td>0.921392</td>\n",
       "      <td>0.202947</td>\n",
       "      <td>0.377372</td>\n",
       "      <td>0.025257</td>\n",
       "      <td>0.792689</td>\n",
       "      <td>0.002772</td>\n",
       "      <td>...</td>\n",
       "      <td>0.017600</td>\n",
       "      <td>0.018000</td>\n",
       "      <td>0.007908</td>\n",
       "      <td>0.001743</td>\n",
       "      <td>0.051300</td>\n",
       "      <td>0.038035</td>\n",
       "      <td>0.042651</td>\n",
       "      <td>0.009865</td>\n",
       "      <td>0.028555</td>\n",
       "      <td>0.050421</td>\n",
       "    </tr>\n",
       "    <tr>\n",
       "      <th>Lower_Age</th>\n",
       "      <td>0.005928</td>\n",
       "      <td>0.369400</td>\n",
       "      <td>0.014998</td>\n",
       "      <td>0.921392</td>\n",
       "      <td>1.000000</td>\n",
       "      <td>0.062634</td>\n",
       "      <td>0.340451</td>\n",
       "      <td>0.021163</td>\n",
       "      <td>0.615739</td>\n",
       "      <td>0.002099</td>\n",
       "      <td>...</td>\n",
       "      <td>0.016049</td>\n",
       "      <td>0.018007</td>\n",
       "      <td>0.005318</td>\n",
       "      <td>0.000964</td>\n",
       "      <td>0.040124</td>\n",
       "      <td>0.037965</td>\n",
       "      <td>0.037173</td>\n",
       "      <td>0.008383</td>\n",
       "      <td>0.026191</td>\n",
       "      <td>0.042840</td>\n",
       "    </tr>\n",
       "  </tbody>\n",
       "</table>\n",
       "<p>5 rows × 58 columns</p>\n",
       "</div>"
      ],
      "text/plain": [
       "                     Region_Code  Accomodation_Type  Reco_Insurance_Type  \\\n",
       "Region_Code             1.000000           0.009105             0.004275   \n",
       "Accomodation_Type       0.009105           1.000000             0.196833   \n",
       "Reco_Insurance_Type     0.004275           0.196833             1.000000   \n",
       "Upper_Age               0.005649           0.419129             0.227119   \n",
       "Lower_Age               0.005928           0.369400             0.014998   \n",
       "\n",
       "                     Upper_Age  Lower_Age  Is_Spouse  Holding_Policy_Duration  \\\n",
       "Region_Code           0.005649   0.005928   0.002567                 0.013193   \n",
       "Accomodation_Type     0.419129   0.369400   0.191045                 0.224995   \n",
       "Reco_Insurance_Type   0.227119   0.014998   0.881560                 0.105313   \n",
       "Upper_Age             1.000000   0.921392   0.202947                 0.377372   \n",
       "Lower_Age             0.921392   1.000000   0.062634                 0.340451   \n",
       "\n",
       "                     Reco_Policy_Cat  Reco_Policy_Premium  Response  ...  \\\n",
       "Region_Code                 0.065120             0.010797  0.001121  ...   \n",
       "Accomodation_Type           0.022055             0.350514  0.005201  ...   \n",
       "Reco_Insurance_Type         0.020826             0.596160  0.009891  ...   \n",
       "Upper_Age                   0.025257             0.792689  0.002772  ...   \n",
       "Lower_Age                   0.021163             0.615739  0.002099  ...   \n",
       "\n",
       "                          C33       C34       C35       C36        C4  \\\n",
       "Region_Code          0.028027  0.043330  0.036216  0.016993  0.027106   \n",
       "Accomodation_Type    0.023833  0.018319  0.000908  0.003304  0.012761   \n",
       "Reco_Insurance_Type  0.000100  0.001386  0.006460  0.001249  0.045944   \n",
       "Upper_Age            0.017600  0.018000  0.007908  0.001743  0.051300   \n",
       "Lower_Age            0.016049  0.018007  0.005318  0.000964  0.040124   \n",
       "\n",
       "                           C5        C6        C7        C8        C9  \n",
       "Region_Code          0.016769  0.037726  0.027700  0.082094  0.015979  \n",
       "Accomodation_Type    0.052159  0.033577  0.061050  0.032255  0.022657  \n",
       "Reco_Insurance_Type  0.017942  0.026326  0.041010  0.001114  0.023432  \n",
       "Upper_Age            0.038035  0.042651  0.009865  0.028555  0.050421  \n",
       "Lower_Age            0.037965  0.037173  0.008383  0.026191  0.042840  \n",
       "\n",
       "[5 rows x 58 columns]"
      ]
     },
     "execution_count": 252,
     "metadata": {},
     "output_type": "execute_result"
    }
   ],
   "source": [
    "# Threshold for removing correlated variables\n",
    "threshold = 0.7\n",
    "\n",
    "# Absolute value correlation matrix\n",
    "corr_matrix = train.corr().abs()\n",
    "corr_matrix.head()"
   ]
  },
  {
   "cell_type": "code",
   "execution_count": 253,
   "id": "49cb7e91",
   "metadata": {},
   "outputs": [
    {
     "data": {
      "text/html": [
       "<div>\n",
       "<style scoped>\n",
       "    .dataframe tbody tr th:only-of-type {\n",
       "        vertical-align: middle;\n",
       "    }\n",
       "\n",
       "    .dataframe tbody tr th {\n",
       "        vertical-align: top;\n",
       "    }\n",
       "\n",
       "    .dataframe thead th {\n",
       "        text-align: right;\n",
       "    }\n",
       "</style>\n",
       "<table border=\"1\" class=\"dataframe\">\n",
       "  <thead>\n",
       "    <tr style=\"text-align: right;\">\n",
       "      <th></th>\n",
       "      <th>Region_Code</th>\n",
       "      <th>Accomodation_Type</th>\n",
       "      <th>Reco_Insurance_Type</th>\n",
       "      <th>Upper_Age</th>\n",
       "      <th>Lower_Age</th>\n",
       "      <th>Is_Spouse</th>\n",
       "      <th>Holding_Policy_Duration</th>\n",
       "      <th>Reco_Policy_Cat</th>\n",
       "      <th>Reco_Policy_Premium</th>\n",
       "      <th>Response</th>\n",
       "      <th>...</th>\n",
       "      <th>C33</th>\n",
       "      <th>C34</th>\n",
       "      <th>C35</th>\n",
       "      <th>C36</th>\n",
       "      <th>C4</th>\n",
       "      <th>C5</th>\n",
       "      <th>C6</th>\n",
       "      <th>C7</th>\n",
       "      <th>C8</th>\n",
       "      <th>C9</th>\n",
       "    </tr>\n",
       "  </thead>\n",
       "  <tbody>\n",
       "    <tr>\n",
       "      <th>Region_Code</th>\n",
       "      <td>NaN</td>\n",
       "      <td>0.009105</td>\n",
       "      <td>0.004275</td>\n",
       "      <td>0.005649</td>\n",
       "      <td>0.005928</td>\n",
       "      <td>0.002567</td>\n",
       "      <td>0.013193</td>\n",
       "      <td>0.065120</td>\n",
       "      <td>0.010797</td>\n",
       "      <td>0.001121</td>\n",
       "      <td>...</td>\n",
       "      <td>0.028027</td>\n",
       "      <td>0.043330</td>\n",
       "      <td>0.036216</td>\n",
       "      <td>0.016993</td>\n",
       "      <td>0.027106</td>\n",
       "      <td>0.016769</td>\n",
       "      <td>0.037726</td>\n",
       "      <td>0.027700</td>\n",
       "      <td>0.082094</td>\n",
       "      <td>0.015979</td>\n",
       "    </tr>\n",
       "    <tr>\n",
       "      <th>Accomodation_Type</th>\n",
       "      <td>NaN</td>\n",
       "      <td>NaN</td>\n",
       "      <td>0.196833</td>\n",
       "      <td>0.419129</td>\n",
       "      <td>0.369400</td>\n",
       "      <td>0.191045</td>\n",
       "      <td>0.224995</td>\n",
       "      <td>0.022055</td>\n",
       "      <td>0.350514</td>\n",
       "      <td>0.005201</td>\n",
       "      <td>...</td>\n",
       "      <td>0.023833</td>\n",
       "      <td>0.018319</td>\n",
       "      <td>0.000908</td>\n",
       "      <td>0.003304</td>\n",
       "      <td>0.012761</td>\n",
       "      <td>0.052159</td>\n",
       "      <td>0.033577</td>\n",
       "      <td>0.061050</td>\n",
       "      <td>0.032255</td>\n",
       "      <td>0.022657</td>\n",
       "    </tr>\n",
       "    <tr>\n",
       "      <th>Reco_Insurance_Type</th>\n",
       "      <td>NaN</td>\n",
       "      <td>NaN</td>\n",
       "      <td>NaN</td>\n",
       "      <td>0.227119</td>\n",
       "      <td>0.014998</td>\n",
       "      <td>0.881560</td>\n",
       "      <td>0.105313</td>\n",
       "      <td>0.020826</td>\n",
       "      <td>0.596160</td>\n",
       "      <td>0.009891</td>\n",
       "      <td>...</td>\n",
       "      <td>0.000100</td>\n",
       "      <td>0.001386</td>\n",
       "      <td>0.006460</td>\n",
       "      <td>0.001249</td>\n",
       "      <td>0.045944</td>\n",
       "      <td>0.017942</td>\n",
       "      <td>0.026326</td>\n",
       "      <td>0.041010</td>\n",
       "      <td>0.001114</td>\n",
       "      <td>0.023432</td>\n",
       "    </tr>\n",
       "    <tr>\n",
       "      <th>Upper_Age</th>\n",
       "      <td>NaN</td>\n",
       "      <td>NaN</td>\n",
       "      <td>NaN</td>\n",
       "      <td>NaN</td>\n",
       "      <td>0.921392</td>\n",
       "      <td>0.202947</td>\n",
       "      <td>0.377372</td>\n",
       "      <td>0.025257</td>\n",
       "      <td>0.792689</td>\n",
       "      <td>0.002772</td>\n",
       "      <td>...</td>\n",
       "      <td>0.017600</td>\n",
       "      <td>0.018000</td>\n",
       "      <td>0.007908</td>\n",
       "      <td>0.001743</td>\n",
       "      <td>0.051300</td>\n",
       "      <td>0.038035</td>\n",
       "      <td>0.042651</td>\n",
       "      <td>0.009865</td>\n",
       "      <td>0.028555</td>\n",
       "      <td>0.050421</td>\n",
       "    </tr>\n",
       "    <tr>\n",
       "      <th>Lower_Age</th>\n",
       "      <td>NaN</td>\n",
       "      <td>NaN</td>\n",
       "      <td>NaN</td>\n",
       "      <td>NaN</td>\n",
       "      <td>NaN</td>\n",
       "      <td>0.062634</td>\n",
       "      <td>0.340451</td>\n",
       "      <td>0.021163</td>\n",
       "      <td>0.615739</td>\n",
       "      <td>0.002099</td>\n",
       "      <td>...</td>\n",
       "      <td>0.016049</td>\n",
       "      <td>0.018007</td>\n",
       "      <td>0.005318</td>\n",
       "      <td>0.000964</td>\n",
       "      <td>0.040124</td>\n",
       "      <td>0.037965</td>\n",
       "      <td>0.037173</td>\n",
       "      <td>0.008383</td>\n",
       "      <td>0.026191</td>\n",
       "      <td>0.042840</td>\n",
       "    </tr>\n",
       "  </tbody>\n",
       "</table>\n",
       "<p>5 rows × 58 columns</p>\n",
       "</div>"
      ],
      "text/plain": [
       "                     Region_Code  Accomodation_Type  Reco_Insurance_Type  \\\n",
       "Region_Code                  NaN           0.009105             0.004275   \n",
       "Accomodation_Type            NaN                NaN             0.196833   \n",
       "Reco_Insurance_Type          NaN                NaN                  NaN   \n",
       "Upper_Age                    NaN                NaN                  NaN   \n",
       "Lower_Age                    NaN                NaN                  NaN   \n",
       "\n",
       "                     Upper_Age  Lower_Age  Is_Spouse  Holding_Policy_Duration  \\\n",
       "Region_Code           0.005649   0.005928   0.002567                 0.013193   \n",
       "Accomodation_Type     0.419129   0.369400   0.191045                 0.224995   \n",
       "Reco_Insurance_Type   0.227119   0.014998   0.881560                 0.105313   \n",
       "Upper_Age                  NaN   0.921392   0.202947                 0.377372   \n",
       "Lower_Age                  NaN        NaN   0.062634                 0.340451   \n",
       "\n",
       "                     Reco_Policy_Cat  Reco_Policy_Premium  Response  ...  \\\n",
       "Region_Code                 0.065120             0.010797  0.001121  ...   \n",
       "Accomodation_Type           0.022055             0.350514  0.005201  ...   \n",
       "Reco_Insurance_Type         0.020826             0.596160  0.009891  ...   \n",
       "Upper_Age                   0.025257             0.792689  0.002772  ...   \n",
       "Lower_Age                   0.021163             0.615739  0.002099  ...   \n",
       "\n",
       "                          C33       C34       C35       C36        C4  \\\n",
       "Region_Code          0.028027  0.043330  0.036216  0.016993  0.027106   \n",
       "Accomodation_Type    0.023833  0.018319  0.000908  0.003304  0.012761   \n",
       "Reco_Insurance_Type  0.000100  0.001386  0.006460  0.001249  0.045944   \n",
       "Upper_Age            0.017600  0.018000  0.007908  0.001743  0.051300   \n",
       "Lower_Age            0.016049  0.018007  0.005318  0.000964  0.040124   \n",
       "\n",
       "                           C5        C6        C7        C8        C9  \n",
       "Region_Code          0.016769  0.037726  0.027700  0.082094  0.015979  \n",
       "Accomodation_Type    0.052159  0.033577  0.061050  0.032255  0.022657  \n",
       "Reco_Insurance_Type  0.017942  0.026326  0.041010  0.001114  0.023432  \n",
       "Upper_Age            0.038035  0.042651  0.009865  0.028555  0.050421  \n",
       "Lower_Age            0.037965  0.037173  0.008383  0.026191  0.042840  \n",
       "\n",
       "[5 rows x 58 columns]"
      ]
     },
     "execution_count": 253,
     "metadata": {},
     "output_type": "execute_result"
    }
   ],
   "source": [
    "# Upper triangle of correlations\n",
    "upper = corr_matrix.where(np.triu(np.ones(corr_matrix.shape), k=1).astype(bool))\n",
    "\n",
    "upper.head()"
   ]
  },
  {
   "cell_type": "code",
   "execution_count": 254,
   "id": "8f5c135a",
   "metadata": {},
   "outputs": [
    {
     "name": "stdout",
     "output_type": "stream",
     "text": [
      "There are 3 columns to remove.\n"
     ]
    }
   ],
   "source": [
    "# Select columns with correlations above threshold\n",
    "to_drop = [column for column in upper.columns if any(upper[column] > threshold)]\n",
    "\n",
    "print('There are %d columns to remove.' % (len(to_drop)))"
   ]
  },
  {
   "cell_type": "code",
   "execution_count": 255,
   "id": "6ff12fd1",
   "metadata": {},
   "outputs": [
    {
     "data": {
      "text/plain": [
       "['Lower_Age', 'Is_Spouse', 'Reco_Policy_Premium']"
      ]
     },
     "execution_count": 255,
     "metadata": {},
     "output_type": "execute_result"
    }
   ],
   "source": [
    "to_drop"
   ]
  },
  {
   "cell_type": "code",
   "execution_count": 256,
   "id": "52d01249",
   "metadata": {},
   "outputs": [
    {
     "name": "stdout",
     "output_type": "stream",
     "text": [
      "<class 'pandas.core.frame.DataFrame'>\n",
      "Int64Index: 50882 entries, 0 to 50881\n",
      "Data columns (total 58 columns):\n",
      " #   Column                   Non-Null Count  Dtype  \n",
      "---  ------                   --------------  -----  \n",
      " 0   Region_Code              50882 non-null  float64\n",
      " 1   Accomodation_Type        50882 non-null  int32  \n",
      " 2   Reco_Insurance_Type      50882 non-null  int32  \n",
      " 3   Upper_Age                50882 non-null  float64\n",
      " 4   Lower_Age                50882 non-null  float64\n",
      " 5   Is_Spouse                50882 non-null  int64  \n",
      " 6   Holding_Policy_Duration  50882 non-null  float64\n",
      " 7   Reco_Policy_Cat          50882 non-null  float64\n",
      " 8   Reco_Policy_Premium      50882 non-null  float64\n",
      " 9   Response                 50882 non-null  int64  \n",
      " 10  1.0                      50882 non-null  uint8  \n",
      " 11  2.0                      50882 non-null  uint8  \n",
      " 12  3.0                      50882 non-null  uint8  \n",
      " 13  4.0                      50882 non-null  uint8  \n",
      " 14  X1                       50882 non-null  uint8  \n",
      " 15  X2                       50882 non-null  uint8  \n",
      " 16  X3                       50882 non-null  uint8  \n",
      " 17  X4                       50882 non-null  uint8  \n",
      " 18  X5                       50882 non-null  uint8  \n",
      " 19  X6                       50882 non-null  uint8  \n",
      " 20  X7                       50882 non-null  uint8  \n",
      " 21  X8                       50882 non-null  uint8  \n",
      " 22  X9                       50882 non-null  uint8  \n",
      " 23  C1                       50882 non-null  uint8  \n",
      " 24  C10                      50882 non-null  uint8  \n",
      " 25  C11                      50882 non-null  uint8  \n",
      " 26  C12                      50882 non-null  uint8  \n",
      " 27  C13                      50882 non-null  uint8  \n",
      " 28  C14                      50882 non-null  uint8  \n",
      " 29  C15                      50882 non-null  uint8  \n",
      " 30  C16                      50882 non-null  uint8  \n",
      " 31  C17                      50882 non-null  uint8  \n",
      " 32  C18                      50882 non-null  uint8  \n",
      " 33  C19                      50882 non-null  uint8  \n",
      " 34  C2                       50882 non-null  uint8  \n",
      " 35  C20                      50882 non-null  uint8  \n",
      " 36  C21                      50882 non-null  uint8  \n",
      " 37  C22                      50882 non-null  uint8  \n",
      " 38  C23                      50882 non-null  uint8  \n",
      " 39  C24                      50882 non-null  uint8  \n",
      " 40  C25                      50882 non-null  uint8  \n",
      " 41  C26                      50882 non-null  uint8  \n",
      " 42  C27                      50882 non-null  uint8  \n",
      " 43  C28                      50882 non-null  uint8  \n",
      " 44  C29                      50882 non-null  uint8  \n",
      " 45  C3                       50882 non-null  uint8  \n",
      " 46  C30                      50882 non-null  uint8  \n",
      " 47  C32                      50882 non-null  uint8  \n",
      " 48  C33                      50882 non-null  uint8  \n",
      " 49  C34                      50882 non-null  uint8  \n",
      " 50  C35                      50882 non-null  uint8  \n",
      " 51  C36                      50882 non-null  uint8  \n",
      " 52  C4                       50882 non-null  uint8  \n",
      " 53  C5                       50882 non-null  uint8  \n",
      " 54  C6                       50882 non-null  uint8  \n",
      " 55  C7                       50882 non-null  uint8  \n",
      " 56  C8                       50882 non-null  uint8  \n",
      " 57  C9                       50882 non-null  uint8  \n",
      "dtypes: float64(6), int32(2), int64(2), uint8(48)\n",
      "memory usage: 6.2 MB\n"
     ]
    }
   ],
   "source": [
    "train.info()"
   ]
  },
  {
   "cell_type": "code",
   "execution_count": 257,
   "id": "240e1f15",
   "metadata": {},
   "outputs": [],
   "source": [
    "train_selected = train.drop(columns = to_drop)"
   ]
  },
  {
   "cell_type": "markdown",
   "id": "fc739d50",
   "metadata": {
    "id": "fc739d50"
   },
   "source": [
    "## Model Building"
   ]
  },
  {
   "cell_type": "code",
   "execution_count": 258,
   "id": "db9d62d7",
   "metadata": {
    "colab": {
     "base_uri": "https://localhost:8080/"
    },
    "id": "db9d62d7",
    "outputId": "207eaaaf-9957-4ece-86c3-aed81f3b34d4"
   },
   "outputs": [
    {
     "name": "stdout",
     "output_type": "stream",
     "text": [
      "Counter({0: 38673, 1: 12209})\n"
     ]
    }
   ],
   "source": [
    "from collections import Counter\n",
    "x = train.drop('Response', axis = 1)\n",
    "y = train.Response\n",
    "print(Counter(y))"
   ]
  },
  {
   "cell_type": "code",
   "execution_count": null,
   "id": "8d7f02aa",
   "metadata": {},
   "outputs": [],
   "source": [
    "x.head()"
   ]
  },
  {
   "cell_type": "code",
   "execution_count": null,
   "id": "80484f01",
   "metadata": {
    "id": "80484f01",
    "scrolled": true
   },
   "outputs": [],
   "source": [
    "from imblearn.over_sampling import RandomOverSampler\n",
    "# instantiating the random over sampler\n",
    "\n",
    "# resampling X, y\n",
    "\n",
    "# new class distribution\n"
   ]
  },
  {
   "cell_type": "code",
   "execution_count": 259,
   "id": "168ef50c",
   "metadata": {
    "id": "168ef50c"
   },
   "outputs": [
    {
     "name": "stdout",
     "output_type": "stream",
     "text": [
      "Counter({0: 38673, 1: 38673})\n"
     ]
    }
   ],
   "source": [
    "#SMOTE\n",
    "from imblearn.over_sampling import SMOTE\n",
    "smote = SMOTE()\n",
    "x_smote, y_smote = smote.fit_resample(x, y)\n",
    "\n",
    "# new class distribution\n",
    "from collections import Counter\n",
    "print(Counter(y_smote))"
   ]
  },
  {
   "cell_type": "code",
   "execution_count": 260,
   "id": "oV_lJCI_gYAd",
   "metadata": {
    "id": "oV_lJCI_gYAd"
   },
   "outputs": [],
   "source": [
    "#Hold-out method\n",
    "#Splitting the dataset into train data and validation data\n",
    "from sklearn.model_selection import train_test_split\n",
    "X_train, X_test, y_train, y_test = train_test_split(x,y, test_size=0.2, random_state=10)"
   ]
  },
  {
   "cell_type": "code",
   "execution_count": null,
   "id": "5WUfwzpEhA8O",
   "metadata": {
    "id": "5WUfwzpEhA8O"
   },
   "outputs": [],
   "source": [
    "#ROS SPLIT\n"
   ]
  },
  {
   "cell_type": "markdown",
   "id": "bL3eLEBpgyu_",
   "metadata": {
    "id": "bL3eLEBpgyu_"
   },
   "source": [
    "### Decision Tree"
   ]
  },
  {
   "cell_type": "code",
   "execution_count": 262,
   "id": "5RI4MekBgo9Z",
   "metadata": {
    "id": "5RI4MekBgo9Z"
   },
   "outputs": [],
   "source": [
    "from sklearn.tree import DecisionTreeClassifier\n",
    "from sklearn import tree"
   ]
  },
  {
   "cell_type": "code",
   "execution_count": 263,
   "id": "YYkhdA17g1LF",
   "metadata": {
    "id": "YYkhdA17g1LF"
   },
   "outputs": [
    {
     "data": {
      "text/html": [
       "<style>#sk-container-id-1 {color: black;background-color: white;}#sk-container-id-1 pre{padding: 0;}#sk-container-id-1 div.sk-toggleable {background-color: white;}#sk-container-id-1 label.sk-toggleable__label {cursor: pointer;display: block;width: 100%;margin-bottom: 0;padding: 0.3em;box-sizing: border-box;text-align: center;}#sk-container-id-1 label.sk-toggleable__label-arrow:before {content: \"▸\";float: left;margin-right: 0.25em;color: #696969;}#sk-container-id-1 label.sk-toggleable__label-arrow:hover:before {color: black;}#sk-container-id-1 div.sk-estimator:hover label.sk-toggleable__label-arrow:before {color: black;}#sk-container-id-1 div.sk-toggleable__content {max-height: 0;max-width: 0;overflow: hidden;text-align: left;background-color: #f0f8ff;}#sk-container-id-1 div.sk-toggleable__content pre {margin: 0.2em;color: black;border-radius: 0.25em;background-color: #f0f8ff;}#sk-container-id-1 input.sk-toggleable__control:checked~div.sk-toggleable__content {max-height: 200px;max-width: 100%;overflow: auto;}#sk-container-id-1 input.sk-toggleable__control:checked~label.sk-toggleable__label-arrow:before {content: \"▾\";}#sk-container-id-1 div.sk-estimator input.sk-toggleable__control:checked~label.sk-toggleable__label {background-color: #d4ebff;}#sk-container-id-1 div.sk-label input.sk-toggleable__control:checked~label.sk-toggleable__label {background-color: #d4ebff;}#sk-container-id-1 input.sk-hidden--visually {border: 0;clip: rect(1px 1px 1px 1px);clip: rect(1px, 1px, 1px, 1px);height: 1px;margin: -1px;overflow: hidden;padding: 0;position: absolute;width: 1px;}#sk-container-id-1 div.sk-estimator {font-family: monospace;background-color: #f0f8ff;border: 1px dotted black;border-radius: 0.25em;box-sizing: border-box;margin-bottom: 0.5em;}#sk-container-id-1 div.sk-estimator:hover {background-color: #d4ebff;}#sk-container-id-1 div.sk-parallel-item::after {content: \"\";width: 100%;border-bottom: 1px solid gray;flex-grow: 1;}#sk-container-id-1 div.sk-label:hover label.sk-toggleable__label {background-color: #d4ebff;}#sk-container-id-1 div.sk-serial::before {content: \"\";position: absolute;border-left: 1px solid gray;box-sizing: border-box;top: 0;bottom: 0;left: 50%;z-index: 0;}#sk-container-id-1 div.sk-serial {display: flex;flex-direction: column;align-items: center;background-color: white;padding-right: 0.2em;padding-left: 0.2em;position: relative;}#sk-container-id-1 div.sk-item {position: relative;z-index: 1;}#sk-container-id-1 div.sk-parallel {display: flex;align-items: stretch;justify-content: center;background-color: white;position: relative;}#sk-container-id-1 div.sk-item::before, #sk-container-id-1 div.sk-parallel-item::before {content: \"\";position: absolute;border-left: 1px solid gray;box-sizing: border-box;top: 0;bottom: 0;left: 50%;z-index: -1;}#sk-container-id-1 div.sk-parallel-item {display: flex;flex-direction: column;z-index: 1;position: relative;background-color: white;}#sk-container-id-1 div.sk-parallel-item:first-child::after {align-self: flex-end;width: 50%;}#sk-container-id-1 div.sk-parallel-item:last-child::after {align-self: flex-start;width: 50%;}#sk-container-id-1 div.sk-parallel-item:only-child::after {width: 0;}#sk-container-id-1 div.sk-dashed-wrapped {border: 1px dashed gray;margin: 0 0.4em 0.5em 0.4em;box-sizing: border-box;padding-bottom: 0.4em;background-color: white;}#sk-container-id-1 div.sk-label label {font-family: monospace;font-weight: bold;display: inline-block;line-height: 1.2em;}#sk-container-id-1 div.sk-label-container {text-align: center;}#sk-container-id-1 div.sk-container {/* jupyter's `normalize.less` sets `[hidden] { display: none; }` but bootstrap.min.css set `[hidden] { display: none !important; }` so we also need the `!important` here to be able to override the default hidden behavior on the sphinx rendered scikit-learn.org. See: https://github.com/scikit-learn/scikit-learn/issues/21755 */display: inline-block !important;position: relative;}#sk-container-id-1 div.sk-text-repr-fallback {display: none;}</style><div id=\"sk-container-id-1\" class=\"sk-top-container\"><div class=\"sk-text-repr-fallback\"><pre>DecisionTreeClassifier(random_state=6)</pre><b>In a Jupyter environment, please rerun this cell to show the HTML representation or trust the notebook. <br />On GitHub, the HTML representation is unable to render, please try loading this page with nbviewer.org.</b></div><div class=\"sk-container\" hidden><div class=\"sk-item\"><div class=\"sk-estimator sk-toggleable\"><input class=\"sk-toggleable__control sk-hidden--visually\" id=\"sk-estimator-id-1\" type=\"checkbox\" checked><label for=\"sk-estimator-id-1\" class=\"sk-toggleable__label sk-toggleable__label-arrow\">DecisionTreeClassifier</label><div class=\"sk-toggleable__content\"><pre>DecisionTreeClassifier(random_state=6)</pre></div></div></div></div></div>"
      ],
      "text/plain": [
       "DecisionTreeClassifier(random_state=6)"
      ]
     },
     "execution_count": 263,
     "metadata": {},
     "output_type": "execute_result"
    }
   ],
   "source": [
    "model= DecisionTreeClassifier(random_state =6)\n",
    "model.fit(X_train, y_train)"
   ]
  },
  {
   "cell_type": "code",
   "execution_count": 264,
   "id": "IirYYi7hg254",
   "metadata": {
    "id": "IirYYi7hg254"
   },
   "outputs": [],
   "source": [
    "prediction = model.predict(X_test)"
   ]
  },
  {
   "cell_type": "code",
   "execution_count": 265,
   "id": "Vhuq13Xeg5Pa",
   "metadata": {
    "id": "Vhuq13Xeg5Pa"
   },
   "outputs": [],
   "source": [
    "from sklearn.metrics import roc_auc_score"
   ]
  },
  {
   "cell_type": "code",
   "execution_count": 266,
   "id": "Sulh56x6g7vi",
   "metadata": {
    "id": "Sulh56x6g7vi"
   },
   "outputs": [
    {
     "data": {
      "text/plain": [
       "0.5486528791360221"
      ]
     },
     "execution_count": 266,
     "metadata": {},
     "output_type": "execute_result"
    }
   ],
   "source": [
    "#DecisionTree Classifier\n",
    "roc_auc_score(y_test,prediction)"
   ]
  },
  {
   "cell_type": "code",
   "execution_count": 267,
   "id": "fd9713c5",
   "metadata": {},
   "outputs": [
    {
     "data": {
      "image/png": "[encoded data removed]",
      "text/plain": [
       "<Figure size 432x288 with 1 Axes>"
      ]
     },
     "metadata": {},
     "output_type": "display_data"
    }
   ],
   "source": [
    "tree.plot_tree(model, max_depth =4)\n",
    " \n",
    "plt.show()"
   ]
  },
  {
   "cell_type": "markdown",
   "id": "1aba2e0e",
   "metadata": {},
   "source": [
    "#### Feature Scaling Model"
   ]
  },
  {
   "cell_type": "code",
   "execution_count": 268,
   "id": "9gcDSeQthP9q",
   "metadata": {
    "id": "9gcDSeQthP9q"
   },
   "outputs": [
    {
     "name": "stdout",
     "output_type": "stream",
     "text": [
      "Counter({0: 38673, 1: 12209})\n"
     ]
    }
   ],
   "source": [
    "from collections import Counter\n",
    "x_selected = train_selected.drop('Response', axis = 1)\n",
    "y_selected = train_selected.Response\n",
    "print(Counter(y))"
   ]
  },
  {
   "cell_type": "code",
   "execution_count": 269,
   "id": "dFzZGWhvg-r-",
   "metadata": {
    "id": "dFzZGWhvg-r-"
   },
   "outputs": [
    {
     "name": "stdout",
     "output_type": "stream",
     "text": [
      "Counter({0: 38673, 1: 38673})\n"
     ]
    }
   ],
   "source": [
    "#SMOTE\n",
    "from imblearn.over_sampling import SMOTE\n",
    "smote = SMOTE()\n",
    "x_smote, y_smote = smote.fit_resample(x_selected, y_selected)\n",
    "\n",
    "# new class distribution\n",
    "from collections import Counter\n",
    "print(Counter(y_smote))"
   ]
  },
  {
   "cell_type": "code",
   "execution_count": 270,
   "id": "lPY64zf1hU-4",
   "metadata": {
    "id": "lPY64zf1hU-4"
   },
   "outputs": [],
   "source": [
    "#Hold-out method\n",
    "#Splitting the dataset into train data and validation data\n",
    "from sklearn.model_selection import train_test_split\n",
    "X_train, X_test, y_train, y_test = train_test_split(x_smote,y_smote, test_size=0.2, random_state=10)"
   ]
  },
  {
   "cell_type": "code",
   "execution_count": 271,
   "id": "-ZRBIUMOha8h",
   "metadata": {
    "id": "-ZRBIUMOha8h"
   },
   "outputs": [
    {
     "data": {
      "text/html": [
       "<style>#sk-container-id-2 {color: black;background-color: white;}#sk-container-id-2 pre{padding: 0;}#sk-container-id-2 div.sk-toggleable {background-color: white;}#sk-container-id-2 label.sk-toggleable__label {cursor: pointer;display: block;width: 100%;margin-bottom: 0;padding: 0.3em;box-sizing: border-box;text-align: center;}#sk-container-id-2 label.sk-toggleable__label-arrow:before {content: \"▸\";float: left;margin-right: 0.25em;color: #696969;}#sk-container-id-2 label.sk-toggleable__label-arrow:hover:before {color: black;}#sk-container-id-2 div.sk-estimator:hover label.sk-toggleable__label-arrow:before {color: black;}#sk-container-id-2 div.sk-toggleable__content {max-height: 0;max-width: 0;overflow: hidden;text-align: left;background-color: #f0f8ff;}#sk-container-id-2 div.sk-toggleable__content pre {margin: 0.2em;color: black;border-radius: 0.25em;background-color: #f0f8ff;}#sk-container-id-2 input.sk-toggleable__control:checked~div.sk-toggleable__content {max-height: 200px;max-width: 100%;overflow: auto;}#sk-container-id-2 input.sk-toggleable__control:checked~label.sk-toggleable__label-arrow:before {content: \"▾\";}#sk-container-id-2 div.sk-estimator input.sk-toggleable__control:checked~label.sk-toggleable__label {background-color: #d4ebff;}#sk-container-id-2 div.sk-label input.sk-toggleable__control:checked~label.sk-toggleable__label {background-color: #d4ebff;}#sk-container-id-2 input.sk-hidden--visually {border: 0;clip: rect(1px 1px 1px 1px);clip: rect(1px, 1px, 1px, 1px);height: 1px;margin: -1px;overflow: hidden;padding: 0;position: absolute;width: 1px;}#sk-container-id-2 div.sk-estimator {font-family: monospace;background-color: #f0f8ff;border: 1px dotted black;border-radius: 0.25em;box-sizing: border-box;margin-bottom: 0.5em;}#sk-container-id-2 div.sk-estimator:hover {background-color: #d4ebff;}#sk-container-id-2 div.sk-parallel-item::after {content: \"\";width: 100%;border-bottom: 1px solid gray;flex-grow: 1;}#sk-container-id-2 div.sk-label:hover label.sk-toggleable__label {background-color: #d4ebff;}#sk-container-id-2 div.sk-serial::before {content: \"\";position: absolute;border-left: 1px solid gray;box-sizing: border-box;top: 0;bottom: 0;left: 50%;z-index: 0;}#sk-container-id-2 div.sk-serial {display: flex;flex-direction: column;align-items: center;background-color: white;padding-right: 0.2em;padding-left: 0.2em;position: relative;}#sk-container-id-2 div.sk-item {position: relative;z-index: 1;}#sk-container-id-2 div.sk-parallel {display: flex;align-items: stretch;justify-content: center;background-color: white;position: relative;}#sk-container-id-2 div.sk-item::before, #sk-container-id-2 div.sk-parallel-item::before {content: \"\";position: absolute;border-left: 1px solid gray;box-sizing: border-box;top: 0;bottom: 0;left: 50%;z-index: -1;}#sk-container-id-2 div.sk-parallel-item {display: flex;flex-direction: column;z-index: 1;position: relative;background-color: white;}#sk-container-id-2 div.sk-parallel-item:first-child::after {align-self: flex-end;width: 50%;}#sk-container-id-2 div.sk-parallel-item:last-child::after {align-self: flex-start;width: 50%;}#sk-container-id-2 div.sk-parallel-item:only-child::after {width: 0;}#sk-container-id-2 div.sk-dashed-wrapped {border: 1px dashed gray;margin: 0 0.4em 0.5em 0.4em;box-sizing: border-box;padding-bottom: 0.4em;background-color: white;}#sk-container-id-2 div.sk-label label {font-family: monospace;font-weight: bold;display: inline-block;line-height: 1.2em;}#sk-container-id-2 div.sk-label-container {text-align: center;}#sk-container-id-2 div.sk-container {/* jupyter's `normalize.less` sets `[hidden] { display: none; }` but bootstrap.min.css set `[hidden] { display: none !important; }` so we also need the `!important` here to be able to override the default hidden behavior on the sphinx rendered scikit-learn.org. See: https://github.com/scikit-learn/scikit-learn/issues/21755 */display: inline-block !important;position: relative;}#sk-container-id-2 div.sk-text-repr-fallback {display: none;}</style><div id=\"sk-container-id-2\" class=\"sk-top-container\"><div class=\"sk-text-repr-fallback\"><pre>DecisionTreeClassifier(random_state=6)</pre><b>In a Jupyter environment, please rerun this cell to show the HTML representation or trust the notebook. <br />On GitHub, the HTML representation is unable to render, please try loading this page with nbviewer.org.</b></div><div class=\"sk-container\" hidden><div class=\"sk-item\"><div class=\"sk-estimator sk-toggleable\"><input class=\"sk-toggleable__control sk-hidden--visually\" id=\"sk-estimator-id-2\" type=\"checkbox\" checked><label for=\"sk-estimator-id-2\" class=\"sk-toggleable__label sk-toggleable__label-arrow\">DecisionTreeClassifier</label><div class=\"sk-toggleable__content\"><pre>DecisionTreeClassifier(random_state=6)</pre></div></div></div></div></div>"
      ],
      "text/plain": [
       "DecisionTreeClassifier(random_state=6)"
      ]
     },
     "execution_count": 271,
     "metadata": {},
     "output_type": "execute_result"
    }
   ],
   "source": [
    "model= DecisionTreeClassifier(random_state =6)\n",
    "model.fit(X_train, y_train)"
   ]
  },
  {
   "cell_type": "code",
   "execution_count": 272,
   "id": "tmL5MEdhhh_K",
   "metadata": {
    "id": "tmL5MEdhhh_K"
   },
   "outputs": [],
   "source": [
    "prediction = model.predict(X_test)"
   ]
  },
  {
   "cell_type": "code",
   "execution_count": 273,
   "id": "wTqQgbBZhllK",
   "metadata": {
    "id": "wTqQgbBZhllK"
   },
   "outputs": [
    {
     "data": {
      "text/plain": [
       "0.7655867123107069"
      ]
     },
     "execution_count": 273,
     "metadata": {},
     "output_type": "execute_result"
    }
   ],
   "source": [
    "#DecisionTree Classifier\n",
    "roc_auc_score(y_test,prediction)"
   ]
  },
  {
   "cell_type": "markdown",
   "id": "5b0dd408",
   "metadata": {},
   "source": [
    "#### With  removal of irrevalent data score improved significantly"
   ]
  },
  {
   "cell_type": "markdown",
   "id": "6cf7cc87",
   "metadata": {},
   "source": [
    "#### Random Forest classifier "
   ]
  },
  {
   "cell_type": "code",
   "execution_count": 276,
   "id": "f5db62ed",
   "metadata": {},
   "outputs": [],
   "source": [
    "from sklearn.ensemble import ExtraTreesClassifier\n",
    "from sklearn.ensemble import RandomForestClassifier"
   ]
  },
  {
   "cell_type": "code",
   "execution_count": 277,
   "id": "ececac85",
   "metadata": {},
   "outputs": [
    {
     "data": {
      "text/plain": [
       "0.8151399326250324"
      ]
     },
     "execution_count": 277,
     "metadata": {},
     "output_type": "execute_result"
    }
   ],
   "source": [
    "rf = RandomForestClassifier(n_estimators=200)\n",
    "rf.fit(X_train, y_train)\n",
    "y_pred = rf.predict(X_test)\n",
    "roc_auc_score(y_test, y_pred)"
   ]
  },
  {
   "cell_type": "markdown",
   "id": "144571ad",
   "metadata": {},
   "source": [
    " #### XTREE"
   ]
  },
  {
   "cell_type": "code",
   "execution_count": 279,
   "id": "50eb31bb",
   "metadata": {},
   "outputs": [
    {
     "data": {
      "text/plain": [
       "0.796752465187327"
      ]
     },
     "execution_count": 279,
     "metadata": {},
     "output_type": "execute_result"
    }
   ],
   "source": [
    "extree = ExtraTreesClassifier()\n",
    "extree.fit(X_train, y_train)\n",
    "y_pred = extree.predict(X_test)\n",
    "roc_auc_score(y_test, y_pred)"
   ]
  },
  {
   "cell_type": "markdown",
   "id": "175fc5bb",
   "metadata": {},
   "source": [
    "#### Here Random forest gave highest score"
   ]
  },
  {
   "cell_type": "code",
   "execution_count": 280,
   "id": "4a7d93bf",
   "metadata": {},
   "outputs": [],
   "source": [
    "from sklearn.neighbors import KNeighborsClassifier"
   ]
  },
  {
   "cell_type": "code",
   "execution_count": 281,
   "id": "0bbae209",
   "metadata": {},
   "outputs": [],
   "source": [
    "# Initialize the KNN classifier\n",
    "knn = KNeighborsClassifier(n_neighbors=10) "
   ]
  },
  {
   "cell_type": "code",
   "execution_count": 282,
   "id": "9ee8a3a5",
   "metadata": {},
   "outputs": [
    {
     "data": {
      "text/plain": [
       "0.6661714129194456"
      ]
     },
     "execution_count": 282,
     "metadata": {},
     "output_type": "execute_result"
    }
   ],
   "source": [
    "# Train the classifier\n",
    "knn.fit(X_train, y_train)\n",
    "y_pred = knn.predict(X_test)\n",
    "roc_auc_score(y_test, y_pred)"
   ]
  },
  {
   "cell_type": "markdown",
   "id": "bbe1deb2",
   "metadata": {},
   "source": [
    "#### Experiments with KNN is not satisfactory"
   ]
  },
  {
   "cell_type": "code",
   "execution_count": null,
   "id": "d7342ac1",
   "metadata": {},
   "outputs": [],
   "source": []
  }
 ],
 "metadata": {
  "colab": {
   "provenance": []
  },
  "kernelspec": {
   "display_name": "Python 3",
   "language": "python",
   "name": "python3"
  },
  "language_info": {
   "codemirror_mode": {
    "name": "ipython",
    "version": 3
   },
   "file_extension": ".py",
   "mimetype": "text/x-python",
   "name": "python",
   "nbconvert_exporter": "python",
   "pygments_lexer": "ipython3",
   "version": "3.8.8"
  }
 },
 "nbformat": 4,
 "nbformat_minor": 5
}
