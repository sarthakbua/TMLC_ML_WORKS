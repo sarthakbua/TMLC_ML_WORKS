{
 "cells": [
  {
   "cell_type": "code",
   "execution_count": 1,
   "id": "44a9d189",
   "metadata": {},
   "outputs": [
    {
     "name": "stdout",
     "output_type": "stream",
     "text": [
      "Welcome to Rock-Paper-Scissors!\n",
      "\n",
      "Rules 1:\n",
      " - Rock & paper-> Paper wins\n",
      "Rules 2:\n",
      " - Rock & scissor-> Rock wins\n",
      "Rules 3:\n",
      " - paper & scissor-> Scissor wins\n",
      "\n",
      "Now enter your choice \n",
      " 1 - Rock \n",
      " 2 - Paper \n",
      " 3 - Scissors \n",
      " And 0 to Stop\n"
     ]
    }
   ],
   "source": [
    "import random\n",
    "\n",
    "# Display rules and game options\n",
    "print(\"Welcome to Rock-Paper-Scissors!\\n\")\n",
    "print(\"Rules 1:\\n - Rock & paper-> Paper wins\")\n",
    "print(\"Rules 2:\\n - Rock & scissor-> Rock wins\")\n",
    "print(\"Rules 3:\\n - paper & scissor-> Scissor wins\")\n",
    "\n",
    "print(\"\\nNow enter your choice \\n 1 - Rock \\n 2 - Paper \\n 3 - Scissors \\n And 0 to Stop\")"
   ]
  },
  {
   "cell_type": "code",
   "execution_count": 2,
   "id": "faff0ba1",
   "metadata": {},
   "outputs": [
    {
     "name": "stdout",
     "output_type": "stream",
     "text": [
      "Enter your choice: 2\n",
      "\n",
      "You chose: Paper\n",
      "Computer chose: Rock\n",
      "You win!\n",
      "Play again? (Y/N): y\n",
      "Enter your choice: 4\n",
      "Invalid choice. Please enter 0, 1, 2, or 3.\n",
      "Enter your choice: 3\n",
      "\n",
      "You chose: Scissors\n",
      "Computer chose: Scissors\n",
      "It's a tie!\n",
      "Play again? (Y/N): n\n",
      "Thanks for playing! .\n"
     ]
    }
   ],
   "source": [
    "##Put options in dictionary \n",
    "\n",
    "choice_names = {1: \"Rock\", 2: \"Paper\", 3: \"Scissors\"}\n",
    "\n",
    "# Main game loop\n",
    "while True:\n",
    "  # Prompt for user choice (handle invalid input directly)\n",
    "  while True:\n",
    "    try:\n",
    "      user_Input = int(input(\"Enter your choice: \"))\n",
    "      if user_Input not in [0, 1, 2, 3]:\n",
    "        print(\"Invalid choice. Please enter 0, 1, 2, or 3.\")\n",
    "        continue\n",
    "      break\n",
    "    except ValueError:\n",
    "      print(\"Invalid input. Please enter a number.\")\n",
    "\n",
    "  # Exit if user chooses 0\n",
    "  if user_Input == 0:\n",
    "    print(\"Thanks for playing! Goodbye.\")\n",
    "    break\n",
    "\n",
    "  # Get computer choice and choose names\n",
    "  computer_Input = random.randint(1, 3)\n",
    "  user_Input_name = choice_names[user_Input]\n",
    "  computer_Input_name = choice_names[computer_Input]\n",
    "\n",
    "  # Show choices and outcome\n",
    "  print(\"\\nYou chose:\", user_Input_name)\n",
    "  print(\"Computer chose:\", computer_Input_name)\n",
    "\n",
    "  if user_Input == computer_Input:\n",
    "    print(\"It's a tie!\")\n",
    "  elif (user_Input == 1 and computer_Input == 3) or \\\n",
    "       (user_Input == 2 and computer_Input == 1) or \\\n",
    "       (user_Input == 3 and computer_Input == 2):\n",
    "    print(\"You win!\")\n",
    "  else:\n",
    "    print(\"Computer wins!\")\n",
    "\n",
    "  # Ask to play again and repeat if yes\n",
    "  play_again = input(\"Play again? (Y/N): \").upper()\n",
    "  if play_again != \"Y\":\n",
    "    print(\"Thanks for playing! .\")\n",
    "    break\n"
   ]
  },
  {
   "cell_type": "code",
   "execution_count": null,
   "id": "8cf64fb8",
   "metadata": {},
   "outputs": [],
   "source": []
  }
 ],
 "metadata": {
  "kernelspec": {
   "display_name": "Python 3",
   "language": "python",
   "name": "python3"
  },
  "language_info": {
   "codemirror_mode": {
    "name": "ipython",
    "version": 3
   },
   "file_extension": ".py",
   "mimetype": "text/x-python",
   "name": "python",
   "nbconvert_exporter": "python",
   "pygments_lexer": "ipython3",
   "version": "3.8.8"
  }
 },
 "nbformat": 4,
 "nbformat_minor": 5
}
